{
 "cells": [
  {
   "cell_type": "markdown",
   "metadata": {},
   "source": [
    "## Cel projektu"
   ]
  },
  {
   "cell_type": "markdown",
   "metadata": {},
   "source": [
    "Celem projektu jest zaprezentowanie procesu analizy danych poprzez zastosowanie elementów analizy statystycznej oraz przy użyciu technik i narzędzi programistycznych. Do analizy wykorzystane zostały dane dotyczące klientów sieci komórkowej ze zbiorów załączonych do książki \"Data Analysis using SQL and Excel\" Gordon S. Linoff."
   ]
  },
  {
   "cell_type": "markdown",
   "metadata": {},
   "source": [
    "Praca jest podzielona na dwie główne części. Piewrsza część dotyczy wczytania i wyczyszczenia danych, natomiast druga część to eksploracja danych, w której analizuję odpływ klientów, czas trwania subskrypcji oraz sprawdzę czy istnieje zależność między miesięczną opłatą za usługę oraz czasem trwania subskrypcji."
   ]
  },
  {
   "cell_type": "markdown",
   "metadata": {},
   "source": [
    "## 1. Wczytanie i wyczyszczenie danych"
   ]
  },
  {
   "cell_type": "markdown",
   "metadata": {},
   "source": [
    "### Import potrzebych bibliotek"
   ]
  },
  {
   "cell_type": "code",
   "execution_count": 1,
   "metadata": {},
   "outputs": [],
   "source": [
    "import pandas as pd\n",
    "import numpy as np\n",
    "import matplotlib.pyplot as plt\n",
    "import matplotlib.gridspec as gridspec\n",
    "import sklearn\n",
    "import scipy.stats\n",
    "import warnings \n",
    "warnings.filterwarnings('ignore')\n",
    "from sklearn.preprocessing import LabelEncoder\n",
    "%matplotlib inline\n",
    "import seaborn as sns\n",
    "sns.set(palette = 'pastel')"
   ]
  },
  {
   "cell_type": "markdown",
   "metadata": {},
   "source": [
    "### Wczytywanie danych z plików csv"
   ]
  },
  {
   "cell_type": "markdown",
   "metadata": {},
   "source": [
    "Do analizy wykorzystamy subscribers dataset. Są to dane dotyczące klientów sieci komórkowej. Przyjrzyjmy się pierwszym kilku rzędom danych."
   ]
  },
  {
   "cell_type": "code",
   "execution_count": 2,
   "metadata": {},
   "outputs": [
    {
     "data": {
      "text/html": [
       "<div>\n",
       "<style scoped>\n",
       "    .dataframe tbody tr th:only-of-type {\n",
       "        vertical-align: middle;\n",
       "    }\n",
       "\n",
       "    .dataframe tbody tr th {\n",
       "        vertical-align: top;\n",
       "    }\n",
       "\n",
       "    .dataframe thead th {\n",
       "        text-align: right;\n",
       "    }\n",
       "</style>\n",
       "<table border=\"1\" class=\"dataframe\">\n",
       "  <thead>\n",
       "    <tr style=\"text-align: right;\">\n",
       "      <th></th>\n",
       "      <th>customer_id</th>\n",
       "      <th>rate_plan</th>\n",
       "      <th>monthly_fee</th>\n",
       "      <th>market</th>\n",
       "      <th>channel</th>\n",
       "      <th>start_date</th>\n",
       "      <th>stop_date</th>\n",
       "      <th>stop_type</th>\n",
       "      <th>tenure</th>\n",
       "      <th>censored</th>\n",
       "    </tr>\n",
       "  </thead>\n",
       "  <tbody>\n",
       "    <tr>\n",
       "      <th>0</th>\n",
       "      <td>48856</td>\n",
       "      <td>Bottom</td>\n",
       "      <td>30</td>\n",
       "      <td>Gotham</td>\n",
       "      <td>Dealer</td>\n",
       "      <td>2001-01-23 00:00:00</td>\n",
       "      <td>2004-08-12 00:00:00</td>\n",
       "      <td>V</td>\n",
       "      <td>1297</td>\n",
       "      <td>0</td>\n",
       "    </tr>\n",
       "    <tr>\n",
       "      <th>1</th>\n",
       "      <td>48881</td>\n",
       "      <td>Top</td>\n",
       "      <td>80</td>\n",
       "      <td>Metropolis</td>\n",
       "      <td>Dealer</td>\n",
       "      <td>1997-08-21 00:00:00</td>\n",
       "      <td>2004-01-20 00:00:00</td>\n",
       "      <td>V</td>\n",
       "      <td>2343</td>\n",
       "      <td>0</td>\n",
       "    </tr>\n",
       "    <tr>\n",
       "      <th>2</th>\n",
       "      <td>48929</td>\n",
       "      <td>Bottom</td>\n",
       "      <td>30</td>\n",
       "      <td>Gotham</td>\n",
       "      <td>Dealer</td>\n",
       "      <td>1998-05-07 00:00:00</td>\n",
       "      <td>2005-07-17 00:00:00</td>\n",
       "      <td>V</td>\n",
       "      <td>2628</td>\n",
       "      <td>0</td>\n",
       "    </tr>\n",
       "    <tr>\n",
       "      <th>3</th>\n",
       "      <td>49074</td>\n",
       "      <td>Top</td>\n",
       "      <td>150</td>\n",
       "      <td>Gotham</td>\n",
       "      <td>Dealer</td>\n",
       "      <td>1999-11-15 00:00:00</td>\n",
       "      <td>NaN</td>\n",
       "      <td>NaN</td>\n",
       "      <td>2600</td>\n",
       "      <td>1</td>\n",
       "    </tr>\n",
       "    <tr>\n",
       "      <th>4</th>\n",
       "      <td>49137</td>\n",
       "      <td>Bottom</td>\n",
       "      <td>30</td>\n",
       "      <td>Gotham</td>\n",
       "      <td>Chain</td>\n",
       "      <td>1997-02-13 00:00:00</td>\n",
       "      <td>NaN</td>\n",
       "      <td>NaN</td>\n",
       "      <td>3605</td>\n",
       "      <td>1</td>\n",
       "    </tr>\n",
       "  </tbody>\n",
       "</table>\n",
       "</div>"
      ],
      "text/plain": [
       "   customer_id rate_plan  monthly_fee      market channel  \\\n",
       "0        48856    Bottom           30      Gotham  Dealer   \n",
       "1        48881       Top           80  Metropolis  Dealer   \n",
       "2        48929    Bottom           30      Gotham  Dealer   \n",
       "3        49074       Top          150      Gotham  Dealer   \n",
       "4        49137    Bottom           30      Gotham   Chain   \n",
       "\n",
       "            start_date            stop_date stop_type  tenure  censored  \n",
       "0  2001-01-23 00:00:00  2004-08-12 00:00:00         V    1297         0  \n",
       "1  1997-08-21 00:00:00  2004-01-20 00:00:00         V    2343         0  \n",
       "2  1998-05-07 00:00:00  2005-07-17 00:00:00         V    2628         0  \n",
       "3  1999-11-15 00:00:00                  NaN       NaN    2600         1  \n",
       "4  1997-02-13 00:00:00                  NaN       NaN    3605         1  "
      ]
     },
     "execution_count": 2,
     "metadata": {},
     "output_type": "execute_result"
    }
   ],
   "source": [
    "subs = pd.read_csv(\"data\\subs.txt\", encoding = \"cp1251\", sep = \"\\t\")\n",
    "subs.head()"
   ]
  },
  {
   "cell_type": "markdown",
   "metadata": {},
   "source": [
    "### Opis kolumn zawartych w tabeli"
   ]
  },
  {
   "cell_type": "markdown",
   "metadata": {},
   "source": [
    "- customer_id - indywidualny numer klienta\n",
    "- rate_plan - plan taryfowy\n",
    "- monthly_fee - miesięczna opłata\n",
    "- market - rynek\n",
    "- channel - kanał dystrybucji\n",
    "- start_date - data rozpoczęcia subskrypcji\n",
    "- stop_date - data zakończenia subskrypcji\n",
    "- tenure - czas trwania sukskrypcji w dniach\n",
    "- censored - czy klient jest nadal aktywny (w tym przypadku jest to right censoring czyli nie znamy daty zakończenia subskrypcji)"
   ]
  },
  {
   "cell_type": "markdown",
   "metadata": {},
   "source": [
    "### Sprawdzenie wymiaru DataFrame"
   ]
  },
  {
   "cell_type": "code",
   "execution_count": 3,
   "metadata": {},
   "outputs": [
    {
     "data": {
      "text/plain": [
       "(5068035, 10)"
      ]
     },
     "execution_count": 3,
     "metadata": {},
     "output_type": "execute_result"
    }
   ],
   "source": [
    "subs.shape"
   ]
  },
  {
   "cell_type": "markdown",
   "metadata": {},
   "source": [
    "### Sprawdzenie formatów danych i czyszczenie"
   ]
  },
  {
   "cell_type": "markdown",
   "metadata": {},
   "source": [
    "Przyjrzyjmy się danym trochę bliżej."
   ]
  },
  {
   "cell_type": "code",
   "execution_count": 4,
   "metadata": {},
   "outputs": [
    {
     "name": "stdout",
     "output_type": "stream",
     "text": [
      "<class 'pandas.core.frame.DataFrame'>\n",
      "RangeIndex: 5068035 entries, 0 to 5068034\n",
      "Data columns (total 10 columns):\n",
      " #   Column       Non-Null Count    Dtype \n",
      "---  ------       --------------    ----- \n",
      " 0   customer_id  5068035 non-null  int64 \n",
      " 1   rate_plan    5068035 non-null  object\n",
      " 2   monthly_fee  5068035 non-null  int64 \n",
      " 3   market       5068035 non-null  object\n",
      " 4   channel      5068035 non-null  object\n",
      " 5   start_date   5067854 non-null  object\n",
      " 6   stop_date    2677076 non-null  object\n",
      " 7   stop_type    2677076 non-null  object\n",
      " 8   tenure       5068035 non-null  int64 \n",
      " 9   censored     5068035 non-null  int64 \n",
      "dtypes: int64(4), object(6)\n",
      "memory usage: 386.7+ MB\n"
     ]
    }
   ],
   "source": [
    "subs.info(verbose = True, null_counts = True)"
   ]
  },
  {
   "cell_type": "markdown",
   "metadata": {},
   "source": [
    "Sprawdzamy ile % danych brakuje w każdej kolumnie"
   ]
  },
  {
   "cell_type": "code",
   "execution_count": 5,
   "metadata": {},
   "outputs": [
    {
     "data": {
      "text/plain": [
       "customer_id    0.000000\n",
       "rate_plan      0.000000\n",
       "monthly_fee    0.000000\n",
       "market         0.000000\n",
       "channel        0.000000\n",
       "start_date     0.000036\n",
       "stop_date      0.471772\n",
       "stop_type      0.471772\n",
       "tenure         0.000000\n",
       "censored       0.000000\n",
       "dtype: float64"
      ]
     },
     "execution_count": 5,
     "metadata": {},
     "output_type": "execute_result"
    }
   ],
   "source": [
    "subs.isnull().sum()/subs.shape[0]"
   ]
  },
  {
   "cell_type": "markdown",
   "metadata": {},
   "source": [
    "Kolumny stop_date oraz stop_type mogą zawierać NaN. Jest to informacja, że klient nadal pozostaje aktywny."
   ]
  },
  {
   "cell_type": "markdown",
   "metadata": {},
   "source": [
    "Usuwamy wiersze w których kolumna start_date jest pusta."
   ]
  },
  {
   "cell_type": "code",
   "execution_count": 6,
   "metadata": {},
   "outputs": [],
   "source": [
    "subs = subs.dropna(subset = ['start_date'])"
   ]
  },
  {
   "cell_type": "markdown",
   "metadata": {},
   "source": [
    "Ponownie sprawdzamy ile % danych brakuje w każdnej kolumnie."
   ]
  },
  {
   "cell_type": "code",
   "execution_count": 7,
   "metadata": {},
   "outputs": [
    {
     "data": {
      "text/plain": [
       "customer_id    0.000000\n",
       "rate_plan      0.000000\n",
       "monthly_fee    0.000000\n",
       "market         0.000000\n",
       "channel        0.000000\n",
       "start_date     0.000000\n",
       "stop_date      0.471756\n",
       "stop_type      0.471756\n",
       "tenure         0.000000\n",
       "censored       0.000000\n",
       "dtype: float64"
      ]
     },
     "execution_count": 7,
     "metadata": {},
     "output_type": "execute_result"
    }
   ],
   "source": [
    "subs.isnull().sum()/subs.shape[0]"
   ]
  },
  {
   "cell_type": "markdown",
   "metadata": {},
   "source": [
    "Zmieniamy typ kolumn start_date, stop_date na typ datetime"
   ]
  },
  {
   "cell_type": "code",
   "execution_count": 8,
   "metadata": {},
   "outputs": [],
   "source": [
    "subs['start_date'] = pd.to_datetime(subs['start_date'])"
   ]
  },
  {
   "cell_type": "code",
   "execution_count": 9,
   "metadata": {},
   "outputs": [],
   "source": [
    "subs['stop_date'] = pd.to_datetime(subs['stop_date'])"
   ]
  },
  {
   "cell_type": "code",
   "execution_count": 10,
   "metadata": {},
   "outputs": [
    {
     "name": "stdout",
     "output_type": "stream",
     "text": [
      "<class 'pandas.core.frame.DataFrame'>\n",
      "Int64Index: 5067854 entries, 0 to 5068034\n",
      "Data columns (total 10 columns):\n",
      " #   Column       Non-Null Count    Dtype         \n",
      "---  ------       --------------    -----         \n",
      " 0   customer_id  5067854 non-null  int64         \n",
      " 1   rate_plan    5067854 non-null  object        \n",
      " 2   monthly_fee  5067854 non-null  int64         \n",
      " 3   market       5067854 non-null  object        \n",
      " 4   channel      5067854 non-null  object        \n",
      " 5   start_date   5067854 non-null  datetime64[ns]\n",
      " 6   stop_date    2677061 non-null  datetime64[ns]\n",
      " 7   stop_type    2677061 non-null  object        \n",
      " 8   tenure       5067854 non-null  int64         \n",
      " 9   censored     5067854 non-null  int64         \n",
      "dtypes: datetime64[ns](2), int64(4), object(4)\n",
      "memory usage: 425.3+ MB\n"
     ]
    }
   ],
   "source": [
    "subs.info(verbose = True, null_counts = True)"
   ]
  },
  {
   "cell_type": "markdown",
   "metadata": {},
   "source": [
    "Sprawdźmy jak wyglądają wartości w kolumnach stop_type, rate_plan oraz tenure"
   ]
  },
  {
   "cell_type": "code",
   "execution_count": 11,
   "metadata": {},
   "outputs": [
    {
     "data": {
      "text/plain": [
       "array(['V', nan, 'I', 'M'], dtype=object)"
      ]
     },
     "execution_count": 11,
     "metadata": {},
     "output_type": "execute_result"
    }
   ],
   "source": [
    "# kolumna stop_type\n",
    "subs.stop_type.unique()"
   ]
  },
  {
   "cell_type": "markdown",
   "metadata": {},
   "source": [
    "Gdzie:\n",
    "- NaN - klient jest nadal aktywny\n",
    "- V - \"Voluntary\" - subskrypcja przerwana przez klienta\n",
    "- M - \"Migration\" - klient przerzucił się na inny produkt\n",
    "- I - \"Involuntary\" - subskrypcja przerwana przez firmę, najczęściej z powodu braku płatności"
   ]
  },
  {
   "cell_type": "code",
   "execution_count": 12,
   "metadata": {},
   "outputs": [
    {
     "data": {
      "text/plain": [
       "array(['Bottom', 'Top', 'Middle'], dtype=object)"
      ]
     },
     "execution_count": 12,
     "metadata": {},
     "output_type": "execute_result"
    }
   ],
   "source": [
    "# kolumna rate_plan\n",
    "subs.rate_plan.unique()"
   ]
  },
  {
   "cell_type": "markdown",
   "metadata": {},
   "source": [
    "Mamy trzy plany taryfowe:\n",
    "- bottom\n",
    "- middle\n",
    "- top"
   ]
  },
  {
   "cell_type": "markdown",
   "metadata": {},
   "source": [
    "Sprawdżmy jakie wartości minimalne oraz maksymalne przyjmują odpowiednie plany"
   ]
  },
  {
   "cell_type": "markdown",
   "metadata": {},
   "source": [
    "Minimalne wartości:"
   ]
  },
  {
   "cell_type": "code",
   "execution_count": 13,
   "metadata": {},
   "outputs": [
    {
     "data": {
      "text/plain": [
       "rate_plan\n",
       "Bottom     0\n",
       "Middle    40\n",
       "Top       70\n",
       "Name: monthly_fee, dtype: int64"
      ]
     },
     "execution_count": 13,
     "metadata": {},
     "output_type": "execute_result"
    }
   ],
   "source": [
    "subs.groupby('rate_plan')['monthly_fee'].min()"
   ]
  },
  {
   "cell_type": "markdown",
   "metadata": {},
   "source": [
    "Miesięczna opłata za usługę nie może być równa 0, zatem sprawdzamy dla jakich rekordów ona występuje i je usuwamy."
   ]
  },
  {
   "cell_type": "code",
   "execution_count": 14,
   "metadata": {},
   "outputs": [
    {
     "data": {
      "text/html": [
       "<div>\n",
       "<style scoped>\n",
       "    .dataframe tbody tr th:only-of-type {\n",
       "        vertical-align: middle;\n",
       "    }\n",
       "\n",
       "    .dataframe tbody tr th {\n",
       "        vertical-align: top;\n",
       "    }\n",
       "\n",
       "    .dataframe thead th {\n",
       "        text-align: right;\n",
       "    }\n",
       "</style>\n",
       "<table border=\"1\" class=\"dataframe\">\n",
       "  <thead>\n",
       "    <tr style=\"text-align: right;\">\n",
       "      <th></th>\n",
       "      <th>customer_id</th>\n",
       "      <th>rate_plan</th>\n",
       "      <th>monthly_fee</th>\n",
       "      <th>market</th>\n",
       "      <th>channel</th>\n",
       "      <th>start_date</th>\n",
       "      <th>stop_date</th>\n",
       "      <th>stop_type</th>\n",
       "      <th>tenure</th>\n",
       "      <th>censored</th>\n",
       "    </tr>\n",
       "  </thead>\n",
       "  <tbody>\n",
       "    <tr>\n",
       "      <th>187763</th>\n",
       "      <td>10087336</td>\n",
       "      <td>Bottom</td>\n",
       "      <td>0</td>\n",
       "      <td>Gotham</td>\n",
       "      <td>Dealer</td>\n",
       "      <td>2000-05-19</td>\n",
       "      <td>2004-05-18</td>\n",
       "      <td>V</td>\n",
       "      <td>1460</td>\n",
       "      <td>0</td>\n",
       "    </tr>\n",
       "    <tr>\n",
       "      <th>190497</th>\n",
       "      <td>10232971</td>\n",
       "      <td>Bottom</td>\n",
       "      <td>0</td>\n",
       "      <td>Gotham</td>\n",
       "      <td>Dealer</td>\n",
       "      <td>2000-08-04</td>\n",
       "      <td>2004-04-22</td>\n",
       "      <td>I</td>\n",
       "      <td>1357</td>\n",
       "      <td>0</td>\n",
       "    </tr>\n",
       "    <tr>\n",
       "      <th>213861</th>\n",
       "      <td>11478217</td>\n",
       "      <td>Bottom</td>\n",
       "      <td>0</td>\n",
       "      <td>Gotham</td>\n",
       "      <td>Dealer</td>\n",
       "      <td>2000-02-12</td>\n",
       "      <td>2004-01-06</td>\n",
       "      <td>V</td>\n",
       "      <td>1424</td>\n",
       "      <td>0</td>\n",
       "    </tr>\n",
       "    <tr>\n",
       "      <th>224016</th>\n",
       "      <td>12023474</td>\n",
       "      <td>Bottom</td>\n",
       "      <td>0</td>\n",
       "      <td>Gotham</td>\n",
       "      <td>Dealer</td>\n",
       "      <td>2000-07-06</td>\n",
       "      <td>2004-10-18</td>\n",
       "      <td>V</td>\n",
       "      <td>1565</td>\n",
       "      <td>0</td>\n",
       "    </tr>\n",
       "    <tr>\n",
       "      <th>273091</th>\n",
       "      <td>14641312</td>\n",
       "      <td>Bottom</td>\n",
       "      <td>0</td>\n",
       "      <td>Gotham</td>\n",
       "      <td>Dealer</td>\n",
       "      <td>2000-12-12</td>\n",
       "      <td>2004-03-20</td>\n",
       "      <td>V</td>\n",
       "      <td>1194</td>\n",
       "      <td>0</td>\n",
       "    </tr>\n",
       "    <tr>\n",
       "      <th>284675</th>\n",
       "      <td>15253125</td>\n",
       "      <td>Bottom</td>\n",
       "      <td>0</td>\n",
       "      <td>Gotham</td>\n",
       "      <td>Dealer</td>\n",
       "      <td>1998-06-15</td>\n",
       "      <td>2004-12-07</td>\n",
       "      <td>I</td>\n",
       "      <td>2367</td>\n",
       "      <td>0</td>\n",
       "    </tr>\n",
       "    <tr>\n",
       "      <th>301087</th>\n",
       "      <td>18173245</td>\n",
       "      <td>Bottom</td>\n",
       "      <td>0</td>\n",
       "      <td>Gotham</td>\n",
       "      <td>Dealer</td>\n",
       "      <td>2001-10-21</td>\n",
       "      <td>NaT</td>\n",
       "      <td>NaN</td>\n",
       "      <td>1894</td>\n",
       "      <td>1</td>\n",
       "    </tr>\n",
       "    <tr>\n",
       "      <th>408806</th>\n",
       "      <td>29031786</td>\n",
       "      <td>Bottom</td>\n",
       "      <td>0</td>\n",
       "      <td>Gotham</td>\n",
       "      <td>Dealer</td>\n",
       "      <td>2002-04-29</td>\n",
       "      <td>NaT</td>\n",
       "      <td>NaN</td>\n",
       "      <td>1704</td>\n",
       "      <td>1</td>\n",
       "    </tr>\n",
       "    <tr>\n",
       "      <th>541429</th>\n",
       "      <td>48317197</td>\n",
       "      <td>Bottom</td>\n",
       "      <td>0</td>\n",
       "      <td>Gotham</td>\n",
       "      <td>Dealer</td>\n",
       "      <td>2002-09-10</td>\n",
       "      <td>2004-05-29</td>\n",
       "      <td>V</td>\n",
       "      <td>627</td>\n",
       "      <td>0</td>\n",
       "    </tr>\n",
       "    <tr>\n",
       "      <th>587136</th>\n",
       "      <td>53886416</td>\n",
       "      <td>Bottom</td>\n",
       "      <td>0</td>\n",
       "      <td>Metropolis</td>\n",
       "      <td>Dealer</td>\n",
       "      <td>2001-11-30</td>\n",
       "      <td>2004-08-02</td>\n",
       "      <td>V</td>\n",
       "      <td>976</td>\n",
       "      <td>0</td>\n",
       "    </tr>\n",
       "    <tr>\n",
       "      <th>631349</th>\n",
       "      <td>54408782</td>\n",
       "      <td>Bottom</td>\n",
       "      <td>0</td>\n",
       "      <td>Metropolis</td>\n",
       "      <td>Dealer</td>\n",
       "      <td>2002-01-11</td>\n",
       "      <td>2004-08-29</td>\n",
       "      <td>M</td>\n",
       "      <td>961</td>\n",
       "      <td>0</td>\n",
       "    </tr>\n",
       "    <tr>\n",
       "      <th>2167226</th>\n",
       "      <td>90089670</td>\n",
       "      <td>Bottom</td>\n",
       "      <td>0</td>\n",
       "      <td>Gotham</td>\n",
       "      <td>Dealer</td>\n",
       "      <td>2004-08-14</td>\n",
       "      <td>2004-08-27</td>\n",
       "      <td>V</td>\n",
       "      <td>13</td>\n",
       "      <td>0</td>\n",
       "    </tr>\n",
       "    <tr>\n",
       "      <th>2446937</th>\n",
       "      <td>92939581</td>\n",
       "      <td>Bottom</td>\n",
       "      <td>0</td>\n",
       "      <td>Smallville</td>\n",
       "      <td>Mail</td>\n",
       "      <td>2003-12-11</td>\n",
       "      <td>2005-10-09</td>\n",
       "      <td>V</td>\n",
       "      <td>668</td>\n",
       "      <td>0</td>\n",
       "    </tr>\n",
       "  </tbody>\n",
       "</table>\n",
       "</div>"
      ],
      "text/plain": [
       "         customer_id rate_plan  monthly_fee      market channel start_date  \\\n",
       "187763      10087336    Bottom            0      Gotham  Dealer 2000-05-19   \n",
       "190497      10232971    Bottom            0      Gotham  Dealer 2000-08-04   \n",
       "213861      11478217    Bottom            0      Gotham  Dealer 2000-02-12   \n",
       "224016      12023474    Bottom            0      Gotham  Dealer 2000-07-06   \n",
       "273091      14641312    Bottom            0      Gotham  Dealer 2000-12-12   \n",
       "284675      15253125    Bottom            0      Gotham  Dealer 1998-06-15   \n",
       "301087      18173245    Bottom            0      Gotham  Dealer 2001-10-21   \n",
       "408806      29031786    Bottom            0      Gotham  Dealer 2002-04-29   \n",
       "541429      48317197    Bottom            0      Gotham  Dealer 2002-09-10   \n",
       "587136      53886416    Bottom            0  Metropolis  Dealer 2001-11-30   \n",
       "631349      54408782    Bottom            0  Metropolis  Dealer 2002-01-11   \n",
       "2167226     90089670    Bottom            0      Gotham  Dealer 2004-08-14   \n",
       "2446937     92939581    Bottom            0  Smallville    Mail 2003-12-11   \n",
       "\n",
       "         stop_date stop_type  tenure  censored  \n",
       "187763  2004-05-18         V    1460         0  \n",
       "190497  2004-04-22         I    1357         0  \n",
       "213861  2004-01-06         V    1424         0  \n",
       "224016  2004-10-18         V    1565         0  \n",
       "273091  2004-03-20         V    1194         0  \n",
       "284675  2004-12-07         I    2367         0  \n",
       "301087         NaT       NaN    1894         1  \n",
       "408806         NaT       NaN    1704         1  \n",
       "541429  2004-05-29         V     627         0  \n",
       "587136  2004-08-02         V     976         0  \n",
       "631349  2004-08-29         M     961         0  \n",
       "2167226 2004-08-27         V      13         0  \n",
       "2446937 2005-10-09         V     668         0  "
      ]
     },
     "execution_count": 14,
     "metadata": {},
     "output_type": "execute_result"
    }
   ],
   "source": [
    "subs[subs['monthly_fee'] == 0]"
   ]
  },
  {
   "cell_type": "code",
   "execution_count": 15,
   "metadata": {},
   "outputs": [
    {
     "data": {
      "text/html": [
       "<div>\n",
       "<style scoped>\n",
       "    .dataframe tbody tr th:only-of-type {\n",
       "        vertical-align: middle;\n",
       "    }\n",
       "\n",
       "    .dataframe tbody tr th {\n",
       "        vertical-align: top;\n",
       "    }\n",
       "\n",
       "    .dataframe thead th {\n",
       "        text-align: right;\n",
       "    }\n",
       "</style>\n",
       "<table border=\"1\" class=\"dataframe\">\n",
       "  <thead>\n",
       "    <tr style=\"text-align: right;\">\n",
       "      <th></th>\n",
       "      <th>customer_id</th>\n",
       "      <th>rate_plan</th>\n",
       "      <th>monthly_fee</th>\n",
       "      <th>market</th>\n",
       "      <th>channel</th>\n",
       "      <th>start_date</th>\n",
       "      <th>stop_date</th>\n",
       "      <th>stop_type</th>\n",
       "      <th>tenure</th>\n",
       "      <th>censored</th>\n",
       "    </tr>\n",
       "  </thead>\n",
       "  <tbody>\n",
       "    <tr>\n",
       "      <th>0</th>\n",
       "      <td>48856</td>\n",
       "      <td>Bottom</td>\n",
       "      <td>30</td>\n",
       "      <td>Gotham</td>\n",
       "      <td>Dealer</td>\n",
       "      <td>2001-01-23</td>\n",
       "      <td>2004-08-12</td>\n",
       "      <td>V</td>\n",
       "      <td>1297</td>\n",
       "      <td>0</td>\n",
       "    </tr>\n",
       "    <tr>\n",
       "      <th>1</th>\n",
       "      <td>48881</td>\n",
       "      <td>Top</td>\n",
       "      <td>80</td>\n",
       "      <td>Metropolis</td>\n",
       "      <td>Dealer</td>\n",
       "      <td>1997-08-21</td>\n",
       "      <td>2004-01-20</td>\n",
       "      <td>V</td>\n",
       "      <td>2343</td>\n",
       "      <td>0</td>\n",
       "    </tr>\n",
       "    <tr>\n",
       "      <th>2</th>\n",
       "      <td>48929</td>\n",
       "      <td>Bottom</td>\n",
       "      <td>30</td>\n",
       "      <td>Gotham</td>\n",
       "      <td>Dealer</td>\n",
       "      <td>1998-05-07</td>\n",
       "      <td>2005-07-17</td>\n",
       "      <td>V</td>\n",
       "      <td>2628</td>\n",
       "      <td>0</td>\n",
       "    </tr>\n",
       "    <tr>\n",
       "      <th>3</th>\n",
       "      <td>49074</td>\n",
       "      <td>Top</td>\n",
       "      <td>150</td>\n",
       "      <td>Gotham</td>\n",
       "      <td>Dealer</td>\n",
       "      <td>1999-11-15</td>\n",
       "      <td>NaT</td>\n",
       "      <td>NaN</td>\n",
       "      <td>2600</td>\n",
       "      <td>1</td>\n",
       "    </tr>\n",
       "    <tr>\n",
       "      <th>4</th>\n",
       "      <td>49137</td>\n",
       "      <td>Bottom</td>\n",
       "      <td>30</td>\n",
       "      <td>Gotham</td>\n",
       "      <td>Chain</td>\n",
       "      <td>1997-02-13</td>\n",
       "      <td>NaT</td>\n",
       "      <td>NaN</td>\n",
       "      <td>3605</td>\n",
       "      <td>1</td>\n",
       "    </tr>\n",
       "    <tr>\n",
       "      <th>...</th>\n",
       "      <td>...</td>\n",
       "      <td>...</td>\n",
       "      <td>...</td>\n",
       "      <td>...</td>\n",
       "      <td>...</td>\n",
       "      <td>...</td>\n",
       "      <td>...</td>\n",
       "      <td>...</td>\n",
       "      <td>...</td>\n",
       "      <td>...</td>\n",
       "    </tr>\n",
       "    <tr>\n",
       "      <th>5068030</th>\n",
       "      <td>115985518</td>\n",
       "      <td>Middle</td>\n",
       "      <td>60</td>\n",
       "      <td>Smallville</td>\n",
       "      <td>Dealer</td>\n",
       "      <td>2006-12-28</td>\n",
       "      <td>NaT</td>\n",
       "      <td>NaN</td>\n",
       "      <td>0</td>\n",
       "      <td>1</td>\n",
       "    </tr>\n",
       "    <tr>\n",
       "      <th>5068031</th>\n",
       "      <td>115985519</td>\n",
       "      <td>Bottom</td>\n",
       "      <td>40</td>\n",
       "      <td>Smallville</td>\n",
       "      <td>Chain</td>\n",
       "      <td>2006-12-28</td>\n",
       "      <td>NaT</td>\n",
       "      <td>NaN</td>\n",
       "      <td>0</td>\n",
       "      <td>1</td>\n",
       "    </tr>\n",
       "    <tr>\n",
       "      <th>5068032</th>\n",
       "      <td>115985520</td>\n",
       "      <td>Bottom</td>\n",
       "      <td>40</td>\n",
       "      <td>Smallville</td>\n",
       "      <td>Chain</td>\n",
       "      <td>2006-12-28</td>\n",
       "      <td>NaT</td>\n",
       "      <td>NaN</td>\n",
       "      <td>0</td>\n",
       "      <td>1</td>\n",
       "    </tr>\n",
       "    <tr>\n",
       "      <th>5068033</th>\n",
       "      <td>115985521</td>\n",
       "      <td>Bottom</td>\n",
       "      <td>40</td>\n",
       "      <td>Smallville</td>\n",
       "      <td>Chain</td>\n",
       "      <td>2006-12-28</td>\n",
       "      <td>NaT</td>\n",
       "      <td>NaN</td>\n",
       "      <td>0</td>\n",
       "      <td>1</td>\n",
       "    </tr>\n",
       "    <tr>\n",
       "      <th>5068034</th>\n",
       "      <td>115985522</td>\n",
       "      <td>Bottom</td>\n",
       "      <td>40</td>\n",
       "      <td>Smallville</td>\n",
       "      <td>Chain</td>\n",
       "      <td>2006-12-28</td>\n",
       "      <td>NaT</td>\n",
       "      <td>NaN</td>\n",
       "      <td>0</td>\n",
       "      <td>1</td>\n",
       "    </tr>\n",
       "  </tbody>\n",
       "</table>\n",
       "<p>5067841 rows × 10 columns</p>\n",
       "</div>"
      ],
      "text/plain": [
       "         customer_id rate_plan  monthly_fee      market channel start_date  \\\n",
       "0              48856    Bottom           30      Gotham  Dealer 2001-01-23   \n",
       "1              48881       Top           80  Metropolis  Dealer 1997-08-21   \n",
       "2              48929    Bottom           30      Gotham  Dealer 1998-05-07   \n",
       "3              49074       Top          150      Gotham  Dealer 1999-11-15   \n",
       "4              49137    Bottom           30      Gotham   Chain 1997-02-13   \n",
       "...              ...       ...          ...         ...     ...        ...   \n",
       "5068030    115985518    Middle           60  Smallville  Dealer 2006-12-28   \n",
       "5068031    115985519    Bottom           40  Smallville   Chain 2006-12-28   \n",
       "5068032    115985520    Bottom           40  Smallville   Chain 2006-12-28   \n",
       "5068033    115985521    Bottom           40  Smallville   Chain 2006-12-28   \n",
       "5068034    115985522    Bottom           40  Smallville   Chain 2006-12-28   \n",
       "\n",
       "         stop_date stop_type  tenure  censored  \n",
       "0       2004-08-12         V    1297         0  \n",
       "1       2004-01-20         V    2343         0  \n",
       "2       2005-07-17         V    2628         0  \n",
       "3              NaT       NaN    2600         1  \n",
       "4              NaT       NaN    3605         1  \n",
       "...            ...       ...     ...       ...  \n",
       "5068030        NaT       NaN       0         1  \n",
       "5068031        NaT       NaN       0         1  \n",
       "5068032        NaT       NaN       0         1  \n",
       "5068033        NaT       NaN       0         1  \n",
       "5068034        NaT       NaN       0         1  \n",
       "\n",
       "[5067841 rows x 10 columns]"
      ]
     },
     "execution_count": 15,
     "metadata": {},
     "output_type": "execute_result"
    }
   ],
   "source": [
    "subs = subs[subs['monthly_fee'] > 0]\n",
    "subs"
   ]
  },
  {
   "cell_type": "markdown",
   "metadata": {},
   "source": [
    "Sprawdzamy jeszcze raz minimalne wartości:"
   ]
  },
  {
   "cell_type": "code",
   "execution_count": 16,
   "metadata": {},
   "outputs": [
    {
     "data": {
      "text/plain": [
       "rate_plan\n",
       "Bottom     7\n",
       "Middle    40\n",
       "Top       70\n",
       "Name: monthly_fee, dtype: int64"
      ]
     },
     "execution_count": 16,
     "metadata": {},
     "output_type": "execute_result"
    }
   ],
   "source": [
    "subs.groupby('rate_plan')['monthly_fee'].min()"
   ]
  },
  {
   "cell_type": "markdown",
   "metadata": {},
   "source": [
    "Maksymalne wartości:"
   ]
  },
  {
   "cell_type": "code",
   "execution_count": 17,
   "metadata": {},
   "outputs": [
    {
     "data": {
      "text/plain": [
       "rate_plan\n",
       "Bottom     40\n",
       "Middle     60\n",
       "Top       360\n",
       "Name: monthly_fee, dtype: int64"
      ]
     },
     "execution_count": 17,
     "metadata": {},
     "output_type": "execute_result"
    }
   ],
   "source": [
    "subs.groupby('rate_plan')['monthly_fee'].max()"
   ]
  },
  {
   "cell_type": "code",
   "execution_count": 18,
   "metadata": {},
   "outputs": [
    {
     "data": {
      "text/plain": [
       "array([1297, 2343, 2628, ..., 5080, 4985,  -11], dtype=int64)"
      ]
     },
     "execution_count": 18,
     "metadata": {},
     "output_type": "execute_result"
    }
   ],
   "source": [
    "# kolumna tenure\n",
    "subs.tenure.unique()"
   ]
  },
  {
   "cell_type": "markdown",
   "metadata": {},
   "source": [
    "W kolumnie tenure wystepuja ujemne wartości w niektórych wierszach, zatem je usuwamy, gdyż czas trwania subskrypcji nie może być ujemny."
   ]
  },
  {
   "cell_type": "code",
   "execution_count": 19,
   "metadata": {},
   "outputs": [],
   "source": [
    "subs = subs[subs['tenure'] >= 0]"
   ]
  },
  {
   "cell_type": "markdown",
   "metadata": {},
   "source": [
    "Wszystkie kolumny typu object zmieniamy na typ string i małe litery"
   ]
  },
  {
   "cell_type": "code",
   "execution_count": 20,
   "metadata": {},
   "outputs": [],
   "source": [
    "subs['rate_plan'] = subs.rate_plan.apply(lambda x: str(x).lower())"
   ]
  },
  {
   "cell_type": "code",
   "execution_count": 21,
   "metadata": {},
   "outputs": [],
   "source": [
    "subs['market'] = subs.market.apply(lambda x: str(x).lower())"
   ]
  },
  {
   "cell_type": "code",
   "execution_count": 22,
   "metadata": {},
   "outputs": [],
   "source": [
    "subs['channel'] = subs.channel.apply(lambda x: str(x).lower())"
   ]
  },
  {
   "cell_type": "code",
   "execution_count": 23,
   "metadata": {},
   "outputs": [],
   "source": [
    "subs['stop_type'] = subs.stop_type.apply(lambda x: str(x).lower())"
   ]
  },
  {
   "cell_type": "markdown",
   "metadata": {},
   "source": [
    "Sprawdzamy czy w naszej DataFrame sa duplikaty"
   ]
  },
  {
   "cell_type": "code",
   "execution_count": 24,
   "metadata": {},
   "outputs": [
    {
     "data": {
      "text/html": [
       "<div>\n",
       "<style scoped>\n",
       "    .dataframe tbody tr th:only-of-type {\n",
       "        vertical-align: middle;\n",
       "    }\n",
       "\n",
       "    .dataframe tbody tr th {\n",
       "        vertical-align: top;\n",
       "    }\n",
       "\n",
       "    .dataframe thead th {\n",
       "        text-align: right;\n",
       "    }\n",
       "</style>\n",
       "<table border=\"1\" class=\"dataframe\">\n",
       "  <thead>\n",
       "    <tr style=\"text-align: right;\">\n",
       "      <th></th>\n",
       "      <th>customer_id</th>\n",
       "      <th>rate_plan</th>\n",
       "      <th>monthly_fee</th>\n",
       "      <th>market</th>\n",
       "      <th>channel</th>\n",
       "      <th>start_date</th>\n",
       "      <th>stop_date</th>\n",
       "      <th>stop_type</th>\n",
       "      <th>tenure</th>\n",
       "      <th>censored</th>\n",
       "    </tr>\n",
       "  </thead>\n",
       "  <tbody>\n",
       "  </tbody>\n",
       "</table>\n",
       "</div>"
      ],
      "text/plain": [
       "Empty DataFrame\n",
       "Columns: [customer_id, rate_plan, monthly_fee, market, channel, start_date, stop_date, stop_type, tenure, censored]\n",
       "Index: []"
      ]
     },
     "execution_count": 24,
     "metadata": {},
     "output_type": "execute_result"
    }
   ],
   "source": [
    "subs[subs.duplicated()]"
   ]
  },
  {
   "cell_type": "markdown",
   "metadata": {},
   "source": [
    "Dodajemy kolumnę churn"
   ]
  },
  {
   "cell_type": "code",
   "execution_count": 25,
   "metadata": {},
   "outputs": [],
   "source": [
    "subs['churn'] = subs['censored'].apply(lambda x: 0 if x == 1 else 1)"
   ]
  },
  {
   "cell_type": "markdown",
   "metadata": {},
   "source": [
    "Kolumna censored jest nam nie potrzebna zatem ją usuwamy"
   ]
  },
  {
   "cell_type": "code",
   "execution_count": 26,
   "metadata": {},
   "outputs": [
    {
     "data": {
      "text/html": [
       "<div>\n",
       "<style scoped>\n",
       "    .dataframe tbody tr th:only-of-type {\n",
       "        vertical-align: middle;\n",
       "    }\n",
       "\n",
       "    .dataframe tbody tr th {\n",
       "        vertical-align: top;\n",
       "    }\n",
       "\n",
       "    .dataframe thead th {\n",
       "        text-align: right;\n",
       "    }\n",
       "</style>\n",
       "<table border=\"1\" class=\"dataframe\">\n",
       "  <thead>\n",
       "    <tr style=\"text-align: right;\">\n",
       "      <th></th>\n",
       "      <th>customer_id</th>\n",
       "      <th>rate_plan</th>\n",
       "      <th>monthly_fee</th>\n",
       "      <th>market</th>\n",
       "      <th>channel</th>\n",
       "      <th>start_date</th>\n",
       "      <th>stop_date</th>\n",
       "      <th>stop_type</th>\n",
       "      <th>tenure</th>\n",
       "      <th>churn</th>\n",
       "    </tr>\n",
       "  </thead>\n",
       "  <tbody>\n",
       "    <tr>\n",
       "      <th>0</th>\n",
       "      <td>48856</td>\n",
       "      <td>bottom</td>\n",
       "      <td>30</td>\n",
       "      <td>gotham</td>\n",
       "      <td>dealer</td>\n",
       "      <td>2001-01-23</td>\n",
       "      <td>2004-08-12</td>\n",
       "      <td>v</td>\n",
       "      <td>1297</td>\n",
       "      <td>1</td>\n",
       "    </tr>\n",
       "    <tr>\n",
       "      <th>1</th>\n",
       "      <td>48881</td>\n",
       "      <td>top</td>\n",
       "      <td>80</td>\n",
       "      <td>metropolis</td>\n",
       "      <td>dealer</td>\n",
       "      <td>1997-08-21</td>\n",
       "      <td>2004-01-20</td>\n",
       "      <td>v</td>\n",
       "      <td>2343</td>\n",
       "      <td>1</td>\n",
       "    </tr>\n",
       "    <tr>\n",
       "      <th>2</th>\n",
       "      <td>48929</td>\n",
       "      <td>bottom</td>\n",
       "      <td>30</td>\n",
       "      <td>gotham</td>\n",
       "      <td>dealer</td>\n",
       "      <td>1998-05-07</td>\n",
       "      <td>2005-07-17</td>\n",
       "      <td>v</td>\n",
       "      <td>2628</td>\n",
       "      <td>1</td>\n",
       "    </tr>\n",
       "    <tr>\n",
       "      <th>3</th>\n",
       "      <td>49074</td>\n",
       "      <td>top</td>\n",
       "      <td>150</td>\n",
       "      <td>gotham</td>\n",
       "      <td>dealer</td>\n",
       "      <td>1999-11-15</td>\n",
       "      <td>NaT</td>\n",
       "      <td>nan</td>\n",
       "      <td>2600</td>\n",
       "      <td>0</td>\n",
       "    </tr>\n",
       "    <tr>\n",
       "      <th>4</th>\n",
       "      <td>49137</td>\n",
       "      <td>bottom</td>\n",
       "      <td>30</td>\n",
       "      <td>gotham</td>\n",
       "      <td>chain</td>\n",
       "      <td>1997-02-13</td>\n",
       "      <td>NaT</td>\n",
       "      <td>nan</td>\n",
       "      <td>3605</td>\n",
       "      <td>0</td>\n",
       "    </tr>\n",
       "    <tr>\n",
       "      <th>...</th>\n",
       "      <td>...</td>\n",
       "      <td>...</td>\n",
       "      <td>...</td>\n",
       "      <td>...</td>\n",
       "      <td>...</td>\n",
       "      <td>...</td>\n",
       "      <td>...</td>\n",
       "      <td>...</td>\n",
       "      <td>...</td>\n",
       "      <td>...</td>\n",
       "    </tr>\n",
       "    <tr>\n",
       "      <th>5068030</th>\n",
       "      <td>115985518</td>\n",
       "      <td>middle</td>\n",
       "      <td>60</td>\n",
       "      <td>smallville</td>\n",
       "      <td>dealer</td>\n",
       "      <td>2006-12-28</td>\n",
       "      <td>NaT</td>\n",
       "      <td>nan</td>\n",
       "      <td>0</td>\n",
       "      <td>0</td>\n",
       "    </tr>\n",
       "    <tr>\n",
       "      <th>5068031</th>\n",
       "      <td>115985519</td>\n",
       "      <td>bottom</td>\n",
       "      <td>40</td>\n",
       "      <td>smallville</td>\n",
       "      <td>chain</td>\n",
       "      <td>2006-12-28</td>\n",
       "      <td>NaT</td>\n",
       "      <td>nan</td>\n",
       "      <td>0</td>\n",
       "      <td>0</td>\n",
       "    </tr>\n",
       "    <tr>\n",
       "      <th>5068032</th>\n",
       "      <td>115985520</td>\n",
       "      <td>bottom</td>\n",
       "      <td>40</td>\n",
       "      <td>smallville</td>\n",
       "      <td>chain</td>\n",
       "      <td>2006-12-28</td>\n",
       "      <td>NaT</td>\n",
       "      <td>nan</td>\n",
       "      <td>0</td>\n",
       "      <td>0</td>\n",
       "    </tr>\n",
       "    <tr>\n",
       "      <th>5068033</th>\n",
       "      <td>115985521</td>\n",
       "      <td>bottom</td>\n",
       "      <td>40</td>\n",
       "      <td>smallville</td>\n",
       "      <td>chain</td>\n",
       "      <td>2006-12-28</td>\n",
       "      <td>NaT</td>\n",
       "      <td>nan</td>\n",
       "      <td>0</td>\n",
       "      <td>0</td>\n",
       "    </tr>\n",
       "    <tr>\n",
       "      <th>5068034</th>\n",
       "      <td>115985522</td>\n",
       "      <td>bottom</td>\n",
       "      <td>40</td>\n",
       "      <td>smallville</td>\n",
       "      <td>chain</td>\n",
       "      <td>2006-12-28</td>\n",
       "      <td>NaT</td>\n",
       "      <td>nan</td>\n",
       "      <td>0</td>\n",
       "      <td>0</td>\n",
       "    </tr>\n",
       "  </tbody>\n",
       "</table>\n",
       "<p>5067840 rows × 10 columns</p>\n",
       "</div>"
      ],
      "text/plain": [
       "         customer_id rate_plan  monthly_fee      market channel start_date  \\\n",
       "0              48856    bottom           30      gotham  dealer 2001-01-23   \n",
       "1              48881       top           80  metropolis  dealer 1997-08-21   \n",
       "2              48929    bottom           30      gotham  dealer 1998-05-07   \n",
       "3              49074       top          150      gotham  dealer 1999-11-15   \n",
       "4              49137    bottom           30      gotham   chain 1997-02-13   \n",
       "...              ...       ...          ...         ...     ...        ...   \n",
       "5068030    115985518    middle           60  smallville  dealer 2006-12-28   \n",
       "5068031    115985519    bottom           40  smallville   chain 2006-12-28   \n",
       "5068032    115985520    bottom           40  smallville   chain 2006-12-28   \n",
       "5068033    115985521    bottom           40  smallville   chain 2006-12-28   \n",
       "5068034    115985522    bottom           40  smallville   chain 2006-12-28   \n",
       "\n",
       "         stop_date stop_type  tenure  churn  \n",
       "0       2004-08-12         v    1297      1  \n",
       "1       2004-01-20         v    2343      1  \n",
       "2       2005-07-17         v    2628      1  \n",
       "3              NaT       nan    2600      0  \n",
       "4              NaT       nan    3605      0  \n",
       "...            ...       ...     ...    ...  \n",
       "5068030        NaT       nan       0      0  \n",
       "5068031        NaT       nan       0      0  \n",
       "5068032        NaT       nan       0      0  \n",
       "5068033        NaT       nan       0      0  \n",
       "5068034        NaT       nan       0      0  \n",
       "\n",
       "[5067840 rows x 10 columns]"
      ]
     },
     "execution_count": 26,
     "metadata": {},
     "output_type": "execute_result"
    }
   ],
   "source": [
    "subs.drop(columns = 'censored')"
   ]
  },
  {
   "cell_type": "markdown",
   "metadata": {},
   "source": [
    "### Wylistujmy kolumny DataFrame"
   ]
  },
  {
   "cell_type": "code",
   "execution_count": 27,
   "metadata": {},
   "outputs": [
    {
     "data": {
      "text/plain": [
       "Index(['customer_id', 'rate_plan', 'monthly_fee', 'market', 'channel',\n",
       "       'start_date', 'stop_date', 'stop_type', 'tenure', 'censored', 'churn'],\n",
       "      dtype='object')"
      ]
     },
     "execution_count": 27,
     "metadata": {},
     "output_type": "execute_result"
    }
   ],
   "source": [
    "subs.columns"
   ]
  },
  {
   "cell_type": "markdown",
   "metadata": {},
   "source": [
    "### Sprawdźmy jak wygląda aktualnie DataFrame"
   ]
  },
  {
   "cell_type": "code",
   "execution_count": 28,
   "metadata": {},
   "outputs": [
    {
     "data": {
      "text/html": [
       "<div>\n",
       "<style scoped>\n",
       "    .dataframe tbody tr th:only-of-type {\n",
       "        vertical-align: middle;\n",
       "    }\n",
       "\n",
       "    .dataframe tbody tr th {\n",
       "        vertical-align: top;\n",
       "    }\n",
       "\n",
       "    .dataframe thead th {\n",
       "        text-align: right;\n",
       "    }\n",
       "</style>\n",
       "<table border=\"1\" class=\"dataframe\">\n",
       "  <thead>\n",
       "    <tr style=\"text-align: right;\">\n",
       "      <th></th>\n",
       "      <th>customer_id</th>\n",
       "      <th>rate_plan</th>\n",
       "      <th>monthly_fee</th>\n",
       "      <th>market</th>\n",
       "      <th>channel</th>\n",
       "      <th>start_date</th>\n",
       "      <th>stop_date</th>\n",
       "      <th>stop_type</th>\n",
       "      <th>tenure</th>\n",
       "      <th>censored</th>\n",
       "      <th>churn</th>\n",
       "    </tr>\n",
       "  </thead>\n",
       "  <tbody>\n",
       "    <tr>\n",
       "      <th>0</th>\n",
       "      <td>48856</td>\n",
       "      <td>bottom</td>\n",
       "      <td>30</td>\n",
       "      <td>gotham</td>\n",
       "      <td>dealer</td>\n",
       "      <td>2001-01-23</td>\n",
       "      <td>2004-08-12</td>\n",
       "      <td>v</td>\n",
       "      <td>1297</td>\n",
       "      <td>0</td>\n",
       "      <td>1</td>\n",
       "    </tr>\n",
       "    <tr>\n",
       "      <th>1</th>\n",
       "      <td>48881</td>\n",
       "      <td>top</td>\n",
       "      <td>80</td>\n",
       "      <td>metropolis</td>\n",
       "      <td>dealer</td>\n",
       "      <td>1997-08-21</td>\n",
       "      <td>2004-01-20</td>\n",
       "      <td>v</td>\n",
       "      <td>2343</td>\n",
       "      <td>0</td>\n",
       "      <td>1</td>\n",
       "    </tr>\n",
       "    <tr>\n",
       "      <th>2</th>\n",
       "      <td>48929</td>\n",
       "      <td>bottom</td>\n",
       "      <td>30</td>\n",
       "      <td>gotham</td>\n",
       "      <td>dealer</td>\n",
       "      <td>1998-05-07</td>\n",
       "      <td>2005-07-17</td>\n",
       "      <td>v</td>\n",
       "      <td>2628</td>\n",
       "      <td>0</td>\n",
       "      <td>1</td>\n",
       "    </tr>\n",
       "    <tr>\n",
       "      <th>3</th>\n",
       "      <td>49074</td>\n",
       "      <td>top</td>\n",
       "      <td>150</td>\n",
       "      <td>gotham</td>\n",
       "      <td>dealer</td>\n",
       "      <td>1999-11-15</td>\n",
       "      <td>NaT</td>\n",
       "      <td>nan</td>\n",
       "      <td>2600</td>\n",
       "      <td>1</td>\n",
       "      <td>0</td>\n",
       "    </tr>\n",
       "    <tr>\n",
       "      <th>4</th>\n",
       "      <td>49137</td>\n",
       "      <td>bottom</td>\n",
       "      <td>30</td>\n",
       "      <td>gotham</td>\n",
       "      <td>chain</td>\n",
       "      <td>1997-02-13</td>\n",
       "      <td>NaT</td>\n",
       "      <td>nan</td>\n",
       "      <td>3605</td>\n",
       "      <td>1</td>\n",
       "      <td>0</td>\n",
       "    </tr>\n",
       "  </tbody>\n",
       "</table>\n",
       "</div>"
      ],
      "text/plain": [
       "   customer_id rate_plan  monthly_fee      market channel start_date  \\\n",
       "0        48856    bottom           30      gotham  dealer 2001-01-23   \n",
       "1        48881       top           80  metropolis  dealer 1997-08-21   \n",
       "2        48929    bottom           30      gotham  dealer 1998-05-07   \n",
       "3        49074       top          150      gotham  dealer 1999-11-15   \n",
       "4        49137    bottom           30      gotham   chain 1997-02-13   \n",
       "\n",
       "   stop_date stop_type  tenure  censored  churn  \n",
       "0 2004-08-12         v    1297         0      1  \n",
       "1 2004-01-20         v    2343         0      1  \n",
       "2 2005-07-17         v    2628         0      1  \n",
       "3        NaT       nan    2600         1      0  \n",
       "4        NaT       nan    3605         1      0  "
      ]
     },
     "execution_count": 28,
     "metadata": {},
     "output_type": "execute_result"
    }
   ],
   "source": [
    "subs.head()"
   ]
  },
  {
   "cell_type": "code",
   "execution_count": 29,
   "metadata": {},
   "outputs": [
    {
     "name": "stdout",
     "output_type": "stream",
     "text": [
      "<class 'pandas.core.frame.DataFrame'>\n",
      "Int64Index: 5067840 entries, 0 to 5068034\n",
      "Data columns (total 11 columns):\n",
      " #   Column       Non-Null Count    Dtype         \n",
      "---  ------       --------------    -----         \n",
      " 0   customer_id  5067840 non-null  int64         \n",
      " 1   rate_plan    5067840 non-null  object        \n",
      " 2   monthly_fee  5067840 non-null  int64         \n",
      " 3   market       5067840 non-null  object        \n",
      " 4   channel      5067840 non-null  object        \n",
      " 5   start_date   5067840 non-null  datetime64[ns]\n",
      " 6   stop_date    2677049 non-null  datetime64[ns]\n",
      " 7   stop_type    5067840 non-null  object        \n",
      " 8   tenure       5067840 non-null  int64         \n",
      " 9   censored     5067840 non-null  int64         \n",
      " 10  churn        5067840 non-null  int64         \n",
      "dtypes: datetime64[ns](2), int64(5), object(4)\n",
      "memory usage: 464.0+ MB\n"
     ]
    }
   ],
   "source": [
    "subs.info(verbose = True, null_counts = True)"
   ]
  },
  {
   "cell_type": "markdown",
   "metadata": {},
   "source": [
    "## 2. Analiza eksploracyjna"
   ]
  },
  {
   "cell_type": "markdown",
   "metadata": {},
   "source": [
    "W tabeli subs znajdują się dane numeryczne kolumny: monthly_fee oraz tenure oraz dane kategorialne kolumny: rate_plan, market, channel, stop_type, start_date, stop_date, censored, churn."
   ]
  },
  {
   "cell_type": "markdown",
   "metadata": {},
   "source": [
    "Zacznijmy od analizy dat rozpoczęcia subskrypcji. Sprawdźmy jakie mamy wartości."
   ]
  },
  {
   "cell_type": "code",
   "execution_count": 30,
   "metadata": {},
   "outputs": [
    {
     "data": {
      "text/plain": [
       "array([2001, 1997, 1998, 1999, 2000, 2004, 1995, 1996, 1994, 1993, 1992,\n",
       "       1991, 1990, 1989, 2002, 1988, 2003, 1958, 2005, 2006], dtype=int64)"
      ]
     },
     "execution_count": 30,
     "metadata": {},
     "output_type": "execute_result"
    }
   ],
   "source": [
    "subs.start_date.dt.year.unique()"
   ]
  },
  {
   "cell_type": "markdown",
   "metadata": {},
   "source": [
    "Zauważmy, że w danych pojawia się rok 1958 co jest ewidentnym błędem w danych, gdyż pierwsza sieć komórkowa powstała w 1979. Zatem usuwamy wiersze z tą wartością."
   ]
  },
  {
   "cell_type": "code",
   "execution_count": 31,
   "metadata": {},
   "outputs": [],
   "source": [
    "subs = subs[subs['start_date'].dt.year >= 1979]"
   ]
  },
  {
   "cell_type": "markdown",
   "metadata": {},
   "source": [
    "Dokonujemy analizy dat rozpoczęcia i zakończenia subskrypcji w zależności od roku"
   ]
  },
  {
   "cell_type": "markdown",
   "metadata": {},
   "source": [
    "Rozpoczęcie subskrypcji:"
   ]
  },
  {
   "cell_type": "code",
   "execution_count": 32,
   "metadata": {},
   "outputs": [
    {
     "data": {
      "text/plain": [
       "start_date\n",
       "1988         70\n",
       "1989        213\n",
       "1990        596\n",
       "1991       1011\n",
       "1992       2288\n",
       "1993       3890\n",
       "1994       7371\n",
       "1995      11638\n",
       "1996      22320\n",
       "1997      42462\n",
       "1998      66700\n",
       "1999     102617\n",
       "2000     146970\n",
       "2001     250469\n",
       "2002     482288\n",
       "2003     865218\n",
       "2004    1112706\n",
       "2005    1292819\n",
       "2006     656193\n",
       "dtype: int64"
      ]
     },
     "execution_count": 32,
     "metadata": {},
     "output_type": "execute_result"
    }
   ],
   "source": [
    "subs.groupby(subs['start_date'].dt.year).size() #liczba klientów rozpoczynających subskrypcje w danym roku"
   ]
  },
  {
   "cell_type": "code",
   "execution_count": 33,
   "metadata": {},
   "outputs": [],
   "source": [
    "start_year_subs = pd.pivot_table(subs, index = subs['start_date'].dt.year, values = ['customer_id'], aggfunc = lambda x: 100 * len(x.unique()) / subs.shape[0], margins = True, margins_name = 'ALL')"
   ]
  },
  {
   "cell_type": "code",
   "execution_count": 34,
   "metadata": {},
   "outputs": [
    {
     "data": {
      "text/html": [
       "<div>\n",
       "<style scoped>\n",
       "    .dataframe tbody tr th:only-of-type {\n",
       "        vertical-align: middle;\n",
       "    }\n",
       "\n",
       "    .dataframe tbody tr th {\n",
       "        vertical-align: top;\n",
       "    }\n",
       "\n",
       "    .dataframe thead th {\n",
       "        text-align: right;\n",
       "    }\n",
       "</style>\n",
       "<table border=\"1\" class=\"dataframe\">\n",
       "  <thead>\n",
       "    <tr style=\"text-align: right;\">\n",
       "      <th></th>\n",
       "      <th>customer_id</th>\n",
       "    </tr>\n",
       "    <tr>\n",
       "      <th>start_date</th>\n",
       "      <th></th>\n",
       "    </tr>\n",
       "  </thead>\n",
       "  <tbody>\n",
       "    <tr>\n",
       "      <th>1988</th>\n",
       "      <td>0.00</td>\n",
       "    </tr>\n",
       "    <tr>\n",
       "      <th>1989</th>\n",
       "      <td>0.00</td>\n",
       "    </tr>\n",
       "    <tr>\n",
       "      <th>1990</th>\n",
       "      <td>0.01</td>\n",
       "    </tr>\n",
       "    <tr>\n",
       "      <th>1991</th>\n",
       "      <td>0.02</td>\n",
       "    </tr>\n",
       "    <tr>\n",
       "      <th>1992</th>\n",
       "      <td>0.05</td>\n",
       "    </tr>\n",
       "    <tr>\n",
       "      <th>1993</th>\n",
       "      <td>0.08</td>\n",
       "    </tr>\n",
       "    <tr>\n",
       "      <th>1994</th>\n",
       "      <td>0.15</td>\n",
       "    </tr>\n",
       "    <tr>\n",
       "      <th>1995</th>\n",
       "      <td>0.23</td>\n",
       "    </tr>\n",
       "    <tr>\n",
       "      <th>1996</th>\n",
       "      <td>0.44</td>\n",
       "    </tr>\n",
       "    <tr>\n",
       "      <th>1997</th>\n",
       "      <td>0.84</td>\n",
       "    </tr>\n",
       "    <tr>\n",
       "      <th>1998</th>\n",
       "      <td>1.32</td>\n",
       "    </tr>\n",
       "    <tr>\n",
       "      <th>1999</th>\n",
       "      <td>2.02</td>\n",
       "    </tr>\n",
       "    <tr>\n",
       "      <th>2000</th>\n",
       "      <td>2.90</td>\n",
       "    </tr>\n",
       "    <tr>\n",
       "      <th>2001</th>\n",
       "      <td>4.94</td>\n",
       "    </tr>\n",
       "    <tr>\n",
       "      <th>2002</th>\n",
       "      <td>9.52</td>\n",
       "    </tr>\n",
       "    <tr>\n",
       "      <th>2003</th>\n",
       "      <td>17.07</td>\n",
       "    </tr>\n",
       "    <tr>\n",
       "      <th>2004</th>\n",
       "      <td>21.96</td>\n",
       "    </tr>\n",
       "    <tr>\n",
       "      <th>2005</th>\n",
       "      <td>25.51</td>\n",
       "    </tr>\n",
       "    <tr>\n",
       "      <th>2006</th>\n",
       "      <td>12.95</td>\n",
       "    </tr>\n",
       "    <tr>\n",
       "      <th>ALL</th>\n",
       "      <td>100.00</td>\n",
       "    </tr>\n",
       "  </tbody>\n",
       "</table>\n",
       "</div>"
      ],
      "text/plain": [
       "            customer_id\n",
       "start_date             \n",
       "1988               0.00\n",
       "1989               0.00\n",
       "1990               0.01\n",
       "1991               0.02\n",
       "1992               0.05\n",
       "1993               0.08\n",
       "1994               0.15\n",
       "1995               0.23\n",
       "1996               0.44\n",
       "1997               0.84\n",
       "1998               1.32\n",
       "1999               2.02\n",
       "2000               2.90\n",
       "2001               4.94\n",
       "2002               9.52\n",
       "2003              17.07\n",
       "2004              21.96\n",
       "2005              25.51\n",
       "2006              12.95\n",
       "ALL              100.00"
      ]
     },
     "execution_count": 34,
     "metadata": {},
     "output_type": "execute_result"
    }
   ],
   "source": [
    "round(start_year_subs, 2) #procent wszystkich klientów"
   ]
  },
  {
   "cell_type": "markdown",
   "metadata": {},
   "source": [
    "Jaki procentowy spadek w liczbie nowych klientów nastąpił na przełomie 2005 i 2006 roku"
   ]
  },
  {
   "cell_type": "code",
   "execution_count": 35,
   "metadata": {},
   "outputs": [
    {
     "data": {
      "text/plain": [
       "49.24"
      ]
     },
     "execution_count": 35,
     "metadata": {},
     "output_type": "execute_result"
    }
   ],
   "source": [
    "round(100-((len(subs[subs['start_date'].dt.year == 2006])/len(subs[subs['start_date'].dt.year == 2005]))*100),2)"
   ]
  },
  {
   "cell_type": "code",
   "execution_count": 36,
   "metadata": {},
   "outputs": [
    {
     "data": {
      "image/png": "[encoded data removed]",
      "text/plain": [
       "<Figure size 1080x360 with 1 Axes>"
      ]
     },
     "metadata": {},
     "output_type": "display_data"
    }
   ],
   "source": [
    "plt.figure(figsize = (15,5))\n",
    "sns.countplot(subs['start_date'].dt.year.astype('Int64').sort_values())\n",
    "plt.show()"
   ]
  },
  {
   "cell_type": "markdown",
   "metadata": {},
   "source": [
    "Zakończenie subskrypcji:"
   ]
  },
  {
   "cell_type": "code",
   "execution_count": 37,
   "metadata": {},
   "outputs": [
    {
     "data": {
      "image/png": "[encoded data removed]",
      "text/plain": [
       "<Figure size 432x288 with 1 Axes>"
      ]
     },
     "metadata": {},
     "output_type": "display_data"
    }
   ],
   "source": [
    "sns.countplot(subs['stop_date'].dt.year.astype('Int64').sort_values())\n",
    "plt.show()"
   ]
  },
  {
   "cell_type": "markdown",
   "metadata": {},
   "source": [
    "Widzimy, że nie ma informacji o rezygnacjach przed 2004 rokiem, zatem możemy podejrzewać, że dane zostały wprowadzone w 2004 roku i wzięto tylko pod uwagę aktywnych użytkowników. Zatem w celu dalszej analizy zajmiemy się tylko danymi od 2004. "
   ]
  },
  {
   "cell_type": "code",
   "execution_count": 38,
   "metadata": {},
   "outputs": [],
   "source": [
    "subs = subs[subs['start_date'].dt.year >= 2004]"
   ]
  },
  {
   "cell_type": "markdown",
   "metadata": {},
   "source": [
    "Sprawdźmy jaki jest procentowy stosunek klientów, którzy zrezygnowali do nowych klientów w danym roku."
   ]
  },
  {
   "cell_type": "markdown",
   "metadata": {},
   "source": [
    "Rok 2006:"
   ]
  },
  {
   "cell_type": "code",
   "execution_count": 39,
   "metadata": {},
   "outputs": [
    {
     "data": {
      "text/plain": [
       "113.6"
      ]
     },
     "execution_count": 39,
     "metadata": {},
     "output_type": "execute_result"
    }
   ],
   "source": [
    "round(len(subs[subs['stop_date'].dt.year == 2006])/len(subs[subs['start_date'].dt.year == 2006])*100,2)"
   ]
  },
  {
   "cell_type": "markdown",
   "metadata": {},
   "source": [
    "Rok 2005:"
   ]
  },
  {
   "cell_type": "code",
   "execution_count": 40,
   "metadata": {},
   "outputs": [
    {
     "data": {
      "text/plain": [
       "40.78"
      ]
     },
     "execution_count": 40,
     "metadata": {},
     "output_type": "execute_result"
    }
   ],
   "source": [
    "round(len(subs[subs['stop_date'].dt.year == 2005])/len(subs[subs['start_date'].dt.year == 2005])*100,2)"
   ]
  },
  {
   "cell_type": "markdown",
   "metadata": {},
   "source": [
    "Rok 2004:"
   ]
  },
  {
   "cell_type": "code",
   "execution_count": 41,
   "metadata": {},
   "outputs": [
    {
     "data": {
      "text/plain": [
       "17.42"
      ]
     },
     "execution_count": 41,
     "metadata": {},
     "output_type": "execute_result"
    }
   ],
   "source": [
    "round(len(subs[subs['stop_date'].dt.year == 2004])/len(subs[subs['start_date'].dt.year == 2004])*100,2)"
   ]
  },
  {
   "cell_type": "markdown",
   "metadata": {},
   "source": [
    "Wnioski:\n",
    "- ilość nowych subskrypcji wzrastała, aż do 2005 roku, natomiast w 2006 nastapił spadek nowych subskrypcji o 49.24% w porównaniu do 2005 roku\n",
    "- w 2006 roku więcej klientów zrezygnowało z sybskrypcji niż do niej przystąpiło"
   ]
  },
  {
   "cell_type": "markdown",
   "metadata": {},
   "source": [
    "#### Ile jest aktywnych oraz nieaktywnych klientów"
   ]
  },
  {
   "cell_type": "markdown",
   "metadata": {},
   "source": [
    "Kolumna \"churn\" opisuje czy dany klient zrezygnował z sybskrypcji od czy nadal subskrybuje:\n",
    "- 0 - klient nadal subskrybuje\n",
    "- 1 - klient zrezygnował z subskrypcji"
   ]
  },
  {
   "cell_type": "code",
   "execution_count": 42,
   "metadata": {},
   "outputs": [
    {
     "data": {
      "text/plain": [
       "0    1595299\n",
       "1    1466419\n",
       "Name: churn, dtype: int64"
      ]
     },
     "execution_count": 42,
     "metadata": {},
     "output_type": "execute_result"
    }
   ],
   "source": [
    "subs['churn'].value_counts()"
   ]
  },
  {
   "cell_type": "markdown",
   "metadata": {},
   "source": [
    "Jaki jest procent klientów, którzy odeszli, a jaki tych którzy pozostali od 2004 do 2006 roku włącznie"
   ]
  },
  {
   "cell_type": "code",
   "execution_count": 43,
   "metadata": {},
   "outputs": [
    {
     "name": "stdout",
     "output_type": "stream",
     "text": [
      "52.1 % klientów zostało\n",
      "47.9 % klientów odeszło\n"
     ]
    }
   ],
   "source": [
    "num_retained = subs[subs['churn'] == 0].shape[0]\n",
    "num_churned = subs[subs['churn'] == 1].shape[0]\n",
    "\n",
    "print(round((num_retained/(num_retained + num_churned) * 100),2), '% klientów zostało')\n",
    "print(round((num_churned/(num_retained + num_churned) * 100),2), '% klientów odeszło')"
   ]
  },
  {
   "cell_type": "code",
   "execution_count": 44,
   "metadata": {},
   "outputs": [
    {
     "data": {
      "image/png": "[encoded data removed]",
      "text/plain": [
       "<Figure size 432x288 with 1 Axes>"
      ]
     },
     "metadata": {},
     "output_type": "display_data"
    }
   ],
   "source": [
    "sns.countplot(subs['churn'])\n",
    "plt.show()"
   ]
  },
  {
   "cell_type": "markdown",
   "metadata": {},
   "source": [
    "Wnioski:\n",
    "- więkoszość klientów została, jednak jest to niewielka 4,2 procentowa różnica "
   ]
  },
  {
   "cell_type": "markdown",
   "metadata": {},
   "source": [
    "#### Ile klientów zrezygnowało na danym rynku"
   ]
  },
  {
   "cell_type": "code",
   "execution_count": 45,
   "metadata": {},
   "outputs": [],
   "source": [
    "market_churn = pd.pivot_table(subs, index = ['market'], values = ['customer_id'], columns = ['churn'], aggfunc = lambda x: 100 * len(x.unique()) / subs.shape[0], margins = True, margins_name = 'ALL')"
   ]
  },
  {
   "cell_type": "code",
   "execution_count": 46,
   "metadata": {},
   "outputs": [
    {
     "data": {
      "text/html": [
       "<div>\n",
       "<style scoped>\n",
       "    .dataframe tbody tr th:only-of-type {\n",
       "        vertical-align: middle;\n",
       "    }\n",
       "\n",
       "    .dataframe tbody tr th {\n",
       "        vertical-align: top;\n",
       "    }\n",
       "\n",
       "    .dataframe thead tr th {\n",
       "        text-align: left;\n",
       "    }\n",
       "\n",
       "    .dataframe thead tr:last-of-type th {\n",
       "        text-align: right;\n",
       "    }\n",
       "</style>\n",
       "<table border=\"1\" class=\"dataframe\">\n",
       "  <thead>\n",
       "    <tr>\n",
       "      <th></th>\n",
       "      <th colspan=\"3\" halign=\"left\">customer_id</th>\n",
       "    </tr>\n",
       "    <tr>\n",
       "      <th>churn</th>\n",
       "      <th>0</th>\n",
       "      <th>1</th>\n",
       "      <th>ALL</th>\n",
       "    </tr>\n",
       "    <tr>\n",
       "      <th>market</th>\n",
       "      <th></th>\n",
       "      <th></th>\n",
       "      <th></th>\n",
       "    </tr>\n",
       "  </thead>\n",
       "  <tbody>\n",
       "    <tr>\n",
       "      <th>gotham</th>\n",
       "      <td>22.38</td>\n",
       "      <td>26.59</td>\n",
       "      <td>48.97</td>\n",
       "    </tr>\n",
       "    <tr>\n",
       "      <th>metropolis</th>\n",
       "      <td>16.97</td>\n",
       "      <td>15.54</td>\n",
       "      <td>32.52</td>\n",
       "    </tr>\n",
       "    <tr>\n",
       "      <th>smallville</th>\n",
       "      <td>12.75</td>\n",
       "      <td>5.76</td>\n",
       "      <td>18.51</td>\n",
       "    </tr>\n",
       "    <tr>\n",
       "      <th>ALL</th>\n",
       "      <td>52.10</td>\n",
       "      <td>47.90</td>\n",
       "      <td>100.00</td>\n",
       "    </tr>\n",
       "  </tbody>\n",
       "</table>\n",
       "</div>"
      ],
      "text/plain": [
       "           customer_id               \n",
       "churn                0      1     ALL\n",
       "market                               \n",
       "gotham           22.38  26.59   48.97\n",
       "metropolis       16.97  15.54   32.52\n",
       "smallville       12.75   5.76   18.51\n",
       "ALL              52.10  47.90  100.00"
      ]
     },
     "execution_count": 46,
     "metadata": {},
     "output_type": "execute_result"
    }
   ],
   "source": [
    "round(market_churn, 2) #procent wszystkich klientów"
   ]
  },
  {
   "cell_type": "code",
   "execution_count": 47,
   "metadata": {},
   "outputs": [
    {
     "data": {
      "image/png": "[encoded data removed]",
      "text/plain": [
       "<Figure size 432x288 with 1 Axes>"
      ]
     },
     "metadata": {},
     "output_type": "display_data"
    }
   ],
   "source": [
    "sns.countplot(x = 'market', hue = 'churn', data = subs)\n",
    "plt.show()"
   ]
  },
  {
   "cell_type": "markdown",
   "metadata": {},
   "source": [
    "Wnioski:\n",
    "- na rynku gotham liczba klientów, którzy odeszli przewyższa liczbę klientów, którzy zostali\n",
    "- na rynku metropolis liczba klientów, którzy odeszli jest zbliżona do liczby klientów, którzy pozostali jednakże na korzyść tych drugich\n",
    "- na rynku smallville liczba klientów, którzy pozostali ponad dwukrotnie przewyższa liczbę klientów, którzy odeszli\n",
    "- rynek gotham ma największą liczbę klientów, natomiast smallville najmniejszą"
   ]
  },
  {
   "cell_type": "markdown",
   "metadata": {},
   "source": [
    "#### Ile klientów zrezygnowało z podziałem na rate_plan"
   ]
  },
  {
   "cell_type": "code",
   "execution_count": 48,
   "metadata": {},
   "outputs": [],
   "source": [
    "plan_churn = pd.pivot_table(subs, index = ['rate_plan'], values = ['customer_id'], columns = ['churn'], aggfunc = lambda x: 100 * len(x.unique()) / subs.shape[0], margins = True, margins_name = 'ALL')"
   ]
  },
  {
   "cell_type": "code",
   "execution_count": 49,
   "metadata": {},
   "outputs": [
    {
     "data": {
      "text/html": [
       "<div>\n",
       "<style scoped>\n",
       "    .dataframe tbody tr th:only-of-type {\n",
       "        vertical-align: middle;\n",
       "    }\n",
       "\n",
       "    .dataframe tbody tr th {\n",
       "        vertical-align: top;\n",
       "    }\n",
       "\n",
       "    .dataframe thead tr th {\n",
       "        text-align: left;\n",
       "    }\n",
       "\n",
       "    .dataframe thead tr:last-of-type th {\n",
       "        text-align: right;\n",
       "    }\n",
       "</style>\n",
       "<table border=\"1\" class=\"dataframe\">\n",
       "  <thead>\n",
       "    <tr>\n",
       "      <th></th>\n",
       "      <th colspan=\"3\" halign=\"left\">customer_id</th>\n",
       "    </tr>\n",
       "    <tr>\n",
       "      <th>churn</th>\n",
       "      <th>0</th>\n",
       "      <th>1</th>\n",
       "      <th>ALL</th>\n",
       "    </tr>\n",
       "    <tr>\n",
       "      <th>rate_plan</th>\n",
       "      <th></th>\n",
       "      <th></th>\n",
       "      <th></th>\n",
       "    </tr>\n",
       "  </thead>\n",
       "  <tbody>\n",
       "    <tr>\n",
       "      <th>bottom</th>\n",
       "      <td>44.32</td>\n",
       "      <td>39.46</td>\n",
       "      <td>83.78</td>\n",
       "    </tr>\n",
       "    <tr>\n",
       "      <th>middle</th>\n",
       "      <td>5.85</td>\n",
       "      <td>5.66</td>\n",
       "      <td>11.50</td>\n",
       "    </tr>\n",
       "    <tr>\n",
       "      <th>top</th>\n",
       "      <td>1.94</td>\n",
       "      <td>2.78</td>\n",
       "      <td>4.72</td>\n",
       "    </tr>\n",
       "    <tr>\n",
       "      <th>ALL</th>\n",
       "      <td>52.10</td>\n",
       "      <td>47.90</td>\n",
       "      <td>100.00</td>\n",
       "    </tr>\n",
       "  </tbody>\n",
       "</table>\n",
       "</div>"
      ],
      "text/plain": [
       "          customer_id               \n",
       "churn               0      1     ALL\n",
       "rate_plan                           \n",
       "bottom          44.32  39.46   83.78\n",
       "middle           5.85   5.66   11.50\n",
       "top              1.94   2.78    4.72\n",
       "ALL             52.10  47.90  100.00"
      ]
     },
     "execution_count": 49,
     "metadata": {},
     "output_type": "execute_result"
    }
   ],
   "source": [
    "round(plan_churn, 2) #procent wszystkich klientów"
   ]
  },
  {
   "cell_type": "code",
   "execution_count": 50,
   "metadata": {},
   "outputs": [
    {
     "data": {
      "image/png": "[encoded data removed]",
      "text/plain": [
       "<Figure size 432x288 with 1 Axes>"
      ]
     },
     "metadata": {},
     "output_type": "display_data"
    }
   ],
   "source": [
    "sns.countplot(x = 'rate_plan', hue = 'churn', data = subs)\n",
    "plt.show()"
   ]
  },
  {
   "cell_type": "markdown",
   "metadata": {},
   "source": [
    "Wnioski:\n",
    "- najwięcej klientów decyduje się na bottom plan, natmiast najmniej na top plan\n",
    "- ilość klientów, którzy pozostali przewyższa liczbę klientów, którzy odeszli dla planów bottom oraz middle\n",
    "- ilość klientów, którzy odeszli przewyższa liczbę klientów, którzy pozostali dla planu top"
   ]
  },
  {
   "cell_type": "markdown",
   "metadata": {},
   "source": [
    "#### Ile klientów zrezygnowało z podziałem na kanał dystrybucji"
   ]
  },
  {
   "cell_type": "code",
   "execution_count": 51,
   "metadata": {},
   "outputs": [],
   "source": [
    "channel_churn = pd.pivot_table(subs, index = ['channel'], values = ['customer_id'], columns = ['churn'], aggfunc = lambda x: 100 * len(x.unique()) / subs.shape[0], margins = True, margins_name = 'ALL')"
   ]
  },
  {
   "cell_type": "code",
   "execution_count": 52,
   "metadata": {},
   "outputs": [
    {
     "data": {
      "text/html": [
       "<div>\n",
       "<style scoped>\n",
       "    .dataframe tbody tr th:only-of-type {\n",
       "        vertical-align: middle;\n",
       "    }\n",
       "\n",
       "    .dataframe tbody tr th {\n",
       "        vertical-align: top;\n",
       "    }\n",
       "\n",
       "    .dataframe thead tr th {\n",
       "        text-align: left;\n",
       "    }\n",
       "\n",
       "    .dataframe thead tr:last-of-type th {\n",
       "        text-align: right;\n",
       "    }\n",
       "</style>\n",
       "<table border=\"1\" class=\"dataframe\">\n",
       "  <thead>\n",
       "    <tr>\n",
       "      <th></th>\n",
       "      <th colspan=\"3\" halign=\"left\">customer_id</th>\n",
       "    </tr>\n",
       "    <tr>\n",
       "      <th>churn</th>\n",
       "      <th>0</th>\n",
       "      <th>1</th>\n",
       "      <th>ALL</th>\n",
       "    </tr>\n",
       "    <tr>\n",
       "      <th>channel</th>\n",
       "      <th></th>\n",
       "      <th></th>\n",
       "      <th></th>\n",
       "    </tr>\n",
       "  </thead>\n",
       "  <tbody>\n",
       "    <tr>\n",
       "      <th>chain</th>\n",
       "      <td>5.60</td>\n",
       "      <td>6.24</td>\n",
       "      <td>11.84</td>\n",
       "    </tr>\n",
       "    <tr>\n",
       "      <th>dealer</th>\n",
       "      <td>25.28</td>\n",
       "      <td>28.02</td>\n",
       "      <td>53.30</td>\n",
       "    </tr>\n",
       "    <tr>\n",
       "      <th>mail</th>\n",
       "      <td>9.29</td>\n",
       "      <td>8.41</td>\n",
       "      <td>17.70</td>\n",
       "    </tr>\n",
       "    <tr>\n",
       "      <th>store</th>\n",
       "      <td>11.94</td>\n",
       "      <td>5.23</td>\n",
       "      <td>17.17</td>\n",
       "    </tr>\n",
       "    <tr>\n",
       "      <th>ALL</th>\n",
       "      <td>52.10</td>\n",
       "      <td>47.90</td>\n",
       "      <td>100.00</td>\n",
       "    </tr>\n",
       "  </tbody>\n",
       "</table>\n",
       "</div>"
      ],
      "text/plain": [
       "        customer_id               \n",
       "churn             0      1     ALL\n",
       "channel                           \n",
       "chain          5.60   6.24   11.84\n",
       "dealer        25.28  28.02   53.30\n",
       "mail           9.29   8.41   17.70\n",
       "store         11.94   5.23   17.17\n",
       "ALL           52.10  47.90  100.00"
      ]
     },
     "execution_count": 52,
     "metadata": {},
     "output_type": "execute_result"
    }
   ],
   "source": [
    "round(channel_churn, 2) #procent wszystkich klientów"
   ]
  },
  {
   "cell_type": "code",
   "execution_count": 53,
   "metadata": {},
   "outputs": [
    {
     "data": {
      "image/png": "[encoded data removed]",
      "text/plain": [
       "<Figure size 432x288 with 1 Axes>"
      ]
     },
     "metadata": {},
     "output_type": "display_data"
    }
   ],
   "source": [
    "sns.countplot(x = 'channel', hue = 'churn', data = subs)\n",
    "plt.show()"
   ]
  },
  {
   "cell_type": "markdown",
   "metadata": {},
   "source": [
    "Wnioski:\n",
    "- w przypadku kanału dealer oraz chain liczba klientów, którzy odeszli jest większa niż tych, którzy pozostali\n",
    "- w przypadku kanału store liczba klientów, którzy pozostali ponad dwukrotnie przewyższa liczbę klientów, którzy odeszli\n",
    "- w przypadku maila liczba klientów, którzy pozostali nieznacznie przewyższa liczbę klientów, którzy odeszli\n",
    "- największa liczba klientów pochodzi z kanału dealer, a najmniejsza z chain\n",
    "- w przyszłej analizie należy sprawdzić dlaczego najwięcej klientów zostaje z kanału store (sklep) i dlaczego inne kanały gorzej działają"
   ]
  },
  {
   "cell_type": "markdown",
   "metadata": {},
   "source": [
    "#### Jaka była najczęstsza przyczyna zakończenia subskrypcji"
   ]
  },
  {
   "cell_type": "markdown",
   "metadata": {},
   "source": [
    "Ku przypomnieniu, przyczyny zakończenia subskrypcji:\n",
    "- V - \"Voluntary\" - subskrypcja przerwana przez klienta\n",
    "- M - \"Migration\" - klient przerzucił się na inny produkt\n",
    "- I - \"Involuntary\" - subskrypcja przerwana przez firmę, najczęściej z powodu braku płatności"
   ]
  },
  {
   "cell_type": "code",
   "execution_count": 54,
   "metadata": {},
   "outputs": [],
   "source": [
    "subs_stop = subs[subs['churn'] == 1]"
   ]
  },
  {
   "cell_type": "code",
   "execution_count": 55,
   "metadata": {},
   "outputs": [],
   "source": [
    "stop_churn = pd.pivot_table(subs_stop, index = ['stop_type'], values = ['customer_id'], columns = ['churn'], aggfunc = lambda x: 100 * len(x.unique()) / subs_stop.shape[0], margins = False)"
   ]
  },
  {
   "cell_type": "code",
   "execution_count": 56,
   "metadata": {},
   "outputs": [
    {
     "data": {
      "text/html": [
       "<div>\n",
       "<style scoped>\n",
       "    .dataframe tbody tr th:only-of-type {\n",
       "        vertical-align: middle;\n",
       "    }\n",
       "\n",
       "    .dataframe tbody tr th {\n",
       "        vertical-align: top;\n",
       "    }\n",
       "\n",
       "    .dataframe thead tr th {\n",
       "        text-align: left;\n",
       "    }\n",
       "\n",
       "    .dataframe thead tr:last-of-type th {\n",
       "        text-align: right;\n",
       "    }\n",
       "</style>\n",
       "<table border=\"1\" class=\"dataframe\">\n",
       "  <thead>\n",
       "    <tr>\n",
       "      <th></th>\n",
       "      <th>customer_id</th>\n",
       "    </tr>\n",
       "    <tr>\n",
       "      <th>churn</th>\n",
       "      <th>1</th>\n",
       "    </tr>\n",
       "    <tr>\n",
       "      <th>stop_type</th>\n",
       "      <th></th>\n",
       "    </tr>\n",
       "  </thead>\n",
       "  <tbody>\n",
       "    <tr>\n",
       "      <th>i</th>\n",
       "      <td>35.96</td>\n",
       "    </tr>\n",
       "    <tr>\n",
       "      <th>m</th>\n",
       "      <td>0.63</td>\n",
       "    </tr>\n",
       "    <tr>\n",
       "      <th>v</th>\n",
       "      <td>63.41</td>\n",
       "    </tr>\n",
       "  </tbody>\n",
       "</table>\n",
       "</div>"
      ],
      "text/plain": [
       "          customer_id\n",
       "churn               1\n",
       "stop_type            \n",
       "i               35.96\n",
       "m                0.63\n",
       "v               63.41"
      ]
     },
     "execution_count": 56,
     "metadata": {},
     "output_type": "execute_result"
    }
   ],
   "source": [
    "round(stop_churn, 2) #procent wszystkich klientów, którzy zrezygnowali z subskrypcji"
   ]
  },
  {
   "cell_type": "code",
   "execution_count": 57,
   "metadata": {},
   "outputs": [
    {
     "data": {
      "image/png": "[encoded data removed]",
      "text/plain": [
       "<Figure size 432x288 with 1 Axes>"
      ]
     },
     "metadata": {},
     "output_type": "display_data"
    }
   ],
   "source": [
    "sns.countplot(x = 'stop_type', data = subs.dropna())\n",
    "plt.show()"
   ]
  },
  {
   "cell_type": "markdown",
   "metadata": {},
   "source": [
    "Wnioski:\n",
    "Najczęstszą przyczyną zakończenia subskrypcji była rezygnacja klienta (v - voluntary)"
   ]
  },
  {
   "cell_type": "markdown",
   "metadata": {},
   "source": [
    "#### W którym roku najwięcej ludzi zrezygnowało i z jakiego powodu"
   ]
  },
  {
   "cell_type": "code",
   "execution_count": 58,
   "metadata": {},
   "outputs": [],
   "source": [
    "subs_year = subs.copy()\n",
    "subs_year = subs_year[subs_year['churn'] == 1]\n",
    "subs_year['stop_year'] = subs_year['stop_date'].dt.year.astype('Int64')"
   ]
  },
  {
   "cell_type": "code",
   "execution_count": 59,
   "metadata": {},
   "outputs": [
    {
     "data": {
      "text/html": [
       "<div>\n",
       "<style scoped>\n",
       "    .dataframe tbody tr th:only-of-type {\n",
       "        vertical-align: middle;\n",
       "    }\n",
       "\n",
       "    .dataframe tbody tr th {\n",
       "        vertical-align: top;\n",
       "    }\n",
       "\n",
       "    .dataframe thead tr th {\n",
       "        text-align: left;\n",
       "    }\n",
       "\n",
       "    .dataframe thead tr:last-of-type th {\n",
       "        text-align: right;\n",
       "    }\n",
       "</style>\n",
       "<table border=\"1\" class=\"dataframe\">\n",
       "  <thead>\n",
       "    <tr>\n",
       "      <th></th>\n",
       "      <th colspan=\"4\" halign=\"left\">customer_id</th>\n",
       "    </tr>\n",
       "    <tr>\n",
       "      <th>stop_year</th>\n",
       "      <th>2004</th>\n",
       "      <th>2005</th>\n",
       "      <th>2006</th>\n",
       "      <th>ALL</th>\n",
       "    </tr>\n",
       "    <tr>\n",
       "      <th>stop_type</th>\n",
       "      <th></th>\n",
       "      <th></th>\n",
       "      <th></th>\n",
       "      <th></th>\n",
       "    </tr>\n",
       "  </thead>\n",
       "  <tbody>\n",
       "    <tr>\n",
       "      <th>i</th>\n",
       "      <td>6.16</td>\n",
       "      <td>13.69</td>\n",
       "      <td>16.10</td>\n",
       "      <td>35.96</td>\n",
       "    </tr>\n",
       "    <tr>\n",
       "      <th>m</th>\n",
       "      <td>0.12</td>\n",
       "      <td>0.25</td>\n",
       "      <td>0.26</td>\n",
       "      <td>0.63</td>\n",
       "    </tr>\n",
       "    <tr>\n",
       "      <th>v</th>\n",
       "      <td>6.94</td>\n",
       "      <td>22.00</td>\n",
       "      <td>34.47</td>\n",
       "      <td>63.41</td>\n",
       "    </tr>\n",
       "    <tr>\n",
       "      <th>ALL</th>\n",
       "      <td>13.22</td>\n",
       "      <td>35.95</td>\n",
       "      <td>50.83</td>\n",
       "      <td>100.00</td>\n",
       "    </tr>\n",
       "  </tbody>\n",
       "</table>\n",
       "</div>"
      ],
      "text/plain": [
       "          customer_id                      \n",
       "stop_year        2004   2005   2006     ALL\n",
       "stop_type                                  \n",
       "i                6.16  13.69  16.10   35.96\n",
       "m                0.12   0.25   0.26    0.63\n",
       "v                6.94  22.00  34.47   63.41\n",
       "ALL             13.22  35.95  50.83  100.00"
      ]
     },
     "execution_count": 59,
     "metadata": {},
     "output_type": "execute_result"
    }
   ],
   "source": [
    "year_stop_type = pd.pivot_table(subs_year, index = ['stop_type'], values = ['customer_id'], columns = ['stop_year'], aggfunc = lambda x: 100 * len(x.unique()) / subs_year.shape[0], margins = True, margins_name = 'ALL')\n",
    "round(year_stop_type, 2) #w procentach "
   ]
  },
  {
   "cell_type": "code",
   "execution_count": 60,
   "metadata": {},
   "outputs": [
    {
     "data": {
      "image/png": "[encoded data removed]",
      "text/plain": [
       "<Figure size 420.8x360 with 1 Axes>"
      ]
     },
     "metadata": {},
     "output_type": "display_data"
    }
   ],
   "source": [
    "yst = sns.catplot(\"stop_year\", data=subs_year.dropna(), kind=\"count\", hue = \"stop_type\")"
   ]
  },
  {
   "cell_type": "markdown",
   "metadata": {},
   "source": [
    "Sprawdżmy jaki był procentowy stosunek liczby osób, które zrezygnowały do liczby wszystkich subskrybentów w danym roku:"
   ]
  },
  {
   "cell_type": "markdown",
   "metadata": {},
   "source": [
    "Rok 2006:"
   ]
  },
  {
   "cell_type": "code",
   "execution_count": 61,
   "metadata": {},
   "outputs": [
    {
     "data": {
      "text/plain": [
       "31.85"
      ]
     },
     "execution_count": 61,
     "metadata": {},
     "output_type": "execute_result"
    }
   ],
   "source": [
    "round(len(subs[subs['stop_date'].dt.year == 2006])/(len(subs[subs['start_date'].dt.year <= 2006]) - len(subs[subs['stop_date'].dt.year < 2006]))*100,2)"
   ]
  },
  {
   "cell_type": "markdown",
   "metadata": {},
   "source": [
    "Rok 2005:"
   ]
  },
  {
   "cell_type": "code",
   "execution_count": 62,
   "metadata": {},
   "outputs": [
    {
     "data": {
      "text/plain": [
       "23.83"
      ]
     },
     "execution_count": 62,
     "metadata": {},
     "output_type": "execute_result"
    }
   ],
   "source": [
    "round(len(subs[subs['stop_date'].dt.year == 2005])/(len(subs[subs['start_date'].dt.year <= 2005]) - len(subs[subs['stop_date'].dt.year < 2005]))*100,2)"
   ]
  },
  {
   "cell_type": "markdown",
   "metadata": {},
   "source": [
    "Rok 2004:"
   ]
  },
  {
   "cell_type": "code",
   "execution_count": 63,
   "metadata": {},
   "outputs": [
    {
     "data": {
      "text/plain": [
       "17.42"
      ]
     },
     "execution_count": 63,
     "metadata": {},
     "output_type": "execute_result"
    }
   ],
   "source": [
    "round(len(subs[subs['stop_date'].dt.year == 2004])/len(subs[subs['start_date'].dt.year <= 2004])*100,2)"
   ]
  },
  {
   "cell_type": "markdown",
   "metadata": {},
   "source": [
    "Wnioski: \n",
    "- Najwięcej ludzi zrezygnowało w 2006 roku\n",
    "- Stosunek ludzi rezygnujących z subskrypcji do liczby wszystkich subskrybentów z roku na rok rósł\n",
    "- Najwięcej ludzi każdego roku rezygnowało na swój własny wniosek (voluntary), a najmniej ludzi migrowało do innej sieci (migration)"
   ]
  },
  {
   "cell_type": "markdown",
   "metadata": {},
   "source": [
    "#### W którym roku najwięcej ludzi zrezygnowało i na jakim rynku"
   ]
  },
  {
   "cell_type": "code",
   "execution_count": 64,
   "metadata": {},
   "outputs": [
    {
     "data": {
      "text/html": [
       "<div>\n",
       "<style scoped>\n",
       "    .dataframe tbody tr th:only-of-type {\n",
       "        vertical-align: middle;\n",
       "    }\n",
       "\n",
       "    .dataframe tbody tr th {\n",
       "        vertical-align: top;\n",
       "    }\n",
       "\n",
       "    .dataframe thead tr th {\n",
       "        text-align: left;\n",
       "    }\n",
       "\n",
       "    .dataframe thead tr:last-of-type th {\n",
       "        text-align: right;\n",
       "    }\n",
       "</style>\n",
       "<table border=\"1\" class=\"dataframe\">\n",
       "  <thead>\n",
       "    <tr>\n",
       "      <th></th>\n",
       "      <th colspan=\"4\" halign=\"left\">customer_id</th>\n",
       "    </tr>\n",
       "    <tr>\n",
       "      <th>stop_year</th>\n",
       "      <th>2004</th>\n",
       "      <th>2005</th>\n",
       "      <th>2006</th>\n",
       "      <th>ALL</th>\n",
       "    </tr>\n",
       "    <tr>\n",
       "      <th>market</th>\n",
       "      <th></th>\n",
       "      <th></th>\n",
       "      <th></th>\n",
       "      <th></th>\n",
       "    </tr>\n",
       "  </thead>\n",
       "  <tbody>\n",
       "    <tr>\n",
       "      <th>gotham</th>\n",
       "      <td>7.56</td>\n",
       "      <td>20.07</td>\n",
       "      <td>27.90</td>\n",
       "      <td>55.52</td>\n",
       "    </tr>\n",
       "    <tr>\n",
       "      <th>metropolis</th>\n",
       "      <td>5.26</td>\n",
       "      <td>11.56</td>\n",
       "      <td>15.63</td>\n",
       "      <td>32.45</td>\n",
       "    </tr>\n",
       "    <tr>\n",
       "      <th>smallville</th>\n",
       "      <td>0.40</td>\n",
       "      <td>4.32</td>\n",
       "      <td>7.30</td>\n",
       "      <td>12.03</td>\n",
       "    </tr>\n",
       "    <tr>\n",
       "      <th>ALL</th>\n",
       "      <td>13.22</td>\n",
       "      <td>35.95</td>\n",
       "      <td>50.83</td>\n",
       "      <td>100.00</td>\n",
       "    </tr>\n",
       "  </tbody>\n",
       "</table>\n",
       "</div>"
      ],
      "text/plain": [
       "           customer_id                      \n",
       "stop_year         2004   2005   2006     ALL\n",
       "market                                      \n",
       "gotham            7.56  20.07  27.90   55.52\n",
       "metropolis        5.26  11.56  15.63   32.45\n",
       "smallville        0.40   4.32   7.30   12.03\n",
       "ALL              13.22  35.95  50.83  100.00"
      ]
     },
     "execution_count": 64,
     "metadata": {},
     "output_type": "execute_result"
    }
   ],
   "source": [
    "year_market = pd.pivot_table(subs_year, index = ['market'], values = ['customer_id'], columns = ['stop_year'], aggfunc = lambda x: 100 * len(x.unique()) / subs_year.shape[0], margins = True, margins_name = 'ALL')\n",
    "round(year_market, 2) #w procentach"
   ]
  },
  {
   "cell_type": "code",
   "execution_count": 65,
   "metadata": {},
   "outputs": [
    {
     "data": {
      "image/png": "[encoded data removed]",
      "text/plain": [
       "<Figure size 450.6x360 with 1 Axes>"
      ]
     },
     "metadata": {},
     "output_type": "display_data"
    }
   ],
   "source": [
    "ym = sns.catplot(\"stop_year\", data=subs_year.dropna(), kind=\"count\", hue = \"market\")"
   ]
  },
  {
   "cell_type": "markdown",
   "metadata": {},
   "source": [
    "Sprawdźmy jaki w danym roku i na danym rynku jest stosunek osób, które zrezygnowły do wszystkich subskrybentów"
   ]
  },
  {
   "cell_type": "code",
   "execution_count": 66,
   "metadata": {},
   "outputs": [],
   "source": [
    "subs_gotham = subs[subs['market'] == 'gotham']\n",
    "subs_metropolis = subs[subs['market'] == 'metropolis']\n",
    "subs_smallville = subs[subs['market'] == 'smallville']"
   ]
  },
  {
   "cell_type": "markdown",
   "metadata": {},
   "source": [
    "Rok 2006:"
   ]
  },
  {
   "cell_type": "code",
   "execution_count": 67,
   "metadata": {},
   "outputs": [
    {
     "name": "stdout",
     "output_type": "stream",
     "text": [
      "W 2006 roku w gotham stosunek osób, które zrezygnowały do wszystkich subskrybentów na tym rynku wynosi 37.39\n",
      "W 2006 roku w metropolis stosunek osób, które zrezygnowały do wszystkich subskrybentów na tym rynku wynosi 30.6\n",
      "W 2006 roku w smallville stosunek osób, które zrezygnowały do wszystkich subskrybentów na tym rynku wynosi 21.53\n"
     ]
    }
   ],
   "source": [
    "for i in [subs_gotham, subs_metropolis, subs_smallville]:\n",
    "    x = round(len(i[i['stop_date'].dt.year == 2006])/(len(i[i['start_date'].dt.year <= 2006]) - len(i[i['stop_date'].dt.year < 2006]))*100,2)\n",
    "    print('W 2006 roku w', i.iloc[0, 3], 'stosunek osób, które zrezygnowały do wszystkich subskrybentów na tym rynku wynosi', x)"
   ]
  },
  {
   "cell_type": "markdown",
   "metadata": {},
   "source": [
    "Rok 2005:"
   ]
  },
  {
   "cell_type": "code",
   "execution_count": 68,
   "metadata": {},
   "outputs": [
    {
     "name": "stdout",
     "output_type": "stream",
     "text": [
      "W 2005 roku w gotham stosunek osób, które zrezygnowały do wszystkich subskrybentów na tym rynku wynosi 27.21\n",
      "W 2005 roku w metropolis stosunek osób, które zrezygnowały do wszystkich subskrybentów na tym rynku wynosi 24.35\n",
      "W 2005 roku w smallville stosunek osób, które zrezygnowały do wszystkich subskrybentów na tym rynku wynosi 14.6\n"
     ]
    }
   ],
   "source": [
    "for i in [subs_gotham, subs_metropolis, subs_smallville]:\n",
    "    x = round(len(i[i['stop_date'].dt.year == 2005])/(len(i[i['start_date'].dt.year <= 2005]) - len(i[i['stop_date'].dt.year < 2005]))*100,2)\n",
    "    print('W 2005 roku w', i.iloc[0, 3], 'stosunek osób, które zrezygnowały do wszystkich subskrybentów na tym rynku wynosi', x)"
   ]
  },
  {
   "cell_type": "markdown",
   "metadata": {},
   "source": [
    "Rok 2004:"
   ]
  },
  {
   "cell_type": "code",
   "execution_count": 69,
   "metadata": {},
   "outputs": [
    {
     "name": "stdout",
     "output_type": "stream",
     "text": [
      "W 2004 roku w gotham stosunek osób, które zrezygnowały do wszystkich subskrybentów na tym rynku wynosi 20.77\n",
      "W 2004 roku w metropolis stosunek osób, które zrezygnowały do wszystkich subskrybentów na tym rynku wynosi 18.99\n",
      "W 2004 roku w smallville stosunek osób, które zrezygnowały do wszystkich subskrybentów na tym rynku wynosi 3.39\n"
     ]
    }
   ],
   "source": [
    "for i in [subs_gotham, subs_metropolis, subs_smallville]:\n",
    "    x = round(len(i[i['stop_date'].dt.year == 2004])/len(i[i['start_date'].dt.year <= 2004])*100,2)\n",
    "    print('W 2004 roku w', i.iloc[0, 3], 'stosunek osób, które zrezygnowały do wszystkich subskrybentów na tym rynku wynosi', x)"
   ]
  },
  {
   "cell_type": "markdown",
   "metadata": {},
   "source": [
    "Wnioski: \n",
    "- Każdego roku najwięcej ludzi odchodziło z rynku Gotham, a najmniej z Smallville\n",
    "- Największa liczba klientów odeszła w 2016 roku z rynku Gotham"
   ]
  },
  {
   "cell_type": "markdown",
   "metadata": {},
   "source": [
    "#### Sprawdźmy jaki jest średni czas subskrypcji - tenure (aktywnych oraz nieaktywnych klientów)"
   ]
  },
  {
   "cell_type": "code",
   "execution_count": 70,
   "metadata": {},
   "outputs": [
    {
     "name": "stdout",
     "output_type": "stream",
     "text": [
      "408.76  - średni czas trwania subskrypcji bez podziału na klientów, którzy odeszli i pozostali\n",
      "312.22  - średni czas trwania subskrypcji klientów, którzy zrezygnowali z sybskrypcji\n",
      "497.5  - średni czas trwania subskrypcji klientów, którzy nie zrezygnowali z sybskrypcji\n"
     ]
    }
   ],
   "source": [
    "subs_churned = subs[subs['churn'] == 1]\n",
    "subs_retained = subs[subs['churn'] == 0]\n",
    "print(round(subs['tenure'].mean(),2), ' - średni czas trwania subskrypcji bez podziału na klientów, którzy odeszli i pozostali')\n",
    "print(round(subs_churned['tenure'].mean(),2), ' - średni czas trwania subskrypcji klientów, którzy zrezygnowali z sybskrypcji')\n",
    "print(round(subs_retained['tenure'].mean(),2), ' - średni czas trwania subskrypcji klientów, którzy nie zrezygnowali z sybskrypcji')"
   ]
  },
  {
   "cell_type": "markdown",
   "metadata": {},
   "source": [
    "#### Pokażmy podstawowe statystyki dla monthly_fee oraz tenure"
   ]
  },
  {
   "cell_type": "code",
   "execution_count": 71,
   "metadata": {},
   "outputs": [
    {
     "data": {
      "text/html": [
       "<div>\n",
       "<style scoped>\n",
       "    .dataframe tbody tr th:only-of-type {\n",
       "        vertical-align: middle;\n",
       "    }\n",
       "\n",
       "    .dataframe tbody tr th {\n",
       "        vertical-align: top;\n",
       "    }\n",
       "\n",
       "    .dataframe thead th {\n",
       "        text-align: right;\n",
       "    }\n",
       "</style>\n",
       "<table border=\"1\" class=\"dataframe\">\n",
       "  <thead>\n",
       "    <tr style=\"text-align: right;\">\n",
       "      <th></th>\n",
       "      <th>monthly_fee</th>\n",
       "      <th>tenure</th>\n",
       "    </tr>\n",
       "  </thead>\n",
       "  <tbody>\n",
       "    <tr>\n",
       "      <th>count</th>\n",
       "      <td>3061718.00</td>\n",
       "      <td>3061718.00</td>\n",
       "    </tr>\n",
       "    <tr>\n",
       "      <th>mean</th>\n",
       "      <td>38.99</td>\n",
       "      <td>408.76</td>\n",
       "    </tr>\n",
       "    <tr>\n",
       "      <th>std</th>\n",
       "      <td>16.65</td>\n",
       "      <td>273.16</td>\n",
       "    </tr>\n",
       "    <tr>\n",
       "      <th>min</th>\n",
       "      <td>7.00</td>\n",
       "      <td>0.00</td>\n",
       "    </tr>\n",
       "    <tr>\n",
       "      <th>25%</th>\n",
       "      <td>30.00</td>\n",
       "      <td>176.00</td>\n",
       "    </tr>\n",
       "    <tr>\n",
       "      <th>50%</th>\n",
       "      <td>40.00</td>\n",
       "      <td>380.00</td>\n",
       "    </tr>\n",
       "    <tr>\n",
       "      <th>75%</th>\n",
       "      <td>40.00</td>\n",
       "      <td>596.00</td>\n",
       "    </tr>\n",
       "    <tr>\n",
       "      <th>max</th>\n",
       "      <td>360.00</td>\n",
       "      <td>1092.00</td>\n",
       "    </tr>\n",
       "  </tbody>\n",
       "</table>\n",
       "</div>"
      ],
      "text/plain": [
       "       monthly_fee      tenure\n",
       "count   3061718.00  3061718.00\n",
       "mean         38.99      408.76\n",
       "std          16.65      273.16\n",
       "min           7.00        0.00\n",
       "25%          30.00      176.00\n",
       "50%          40.00      380.00\n",
       "75%          40.00      596.00\n",
       "max         360.00     1092.00"
      ]
     },
     "execution_count": 71,
     "metadata": {},
     "output_type": "execute_result"
    }
   ],
   "source": [
    "round(subs[['monthly_fee', 'tenure']].describe(),2) #bez podziału na klientów, którzy odeszli i pozostali"
   ]
  },
  {
   "cell_type": "code",
   "execution_count": 72,
   "metadata": {},
   "outputs": [
    {
     "data": {
      "text/html": [
       "<div>\n",
       "<style scoped>\n",
       "    .dataframe tbody tr th:only-of-type {\n",
       "        vertical-align: middle;\n",
       "    }\n",
       "\n",
       "    .dataframe tbody tr th {\n",
       "        vertical-align: top;\n",
       "    }\n",
       "\n",
       "    .dataframe thead th {\n",
       "        text-align: right;\n",
       "    }\n",
       "</style>\n",
       "<table border=\"1\" class=\"dataframe\">\n",
       "  <thead>\n",
       "    <tr style=\"text-align: right;\">\n",
       "      <th></th>\n",
       "      <th>monthly_fee</th>\n",
       "      <th>tenure</th>\n",
       "    </tr>\n",
       "  </thead>\n",
       "  <tbody>\n",
       "    <tr>\n",
       "      <th>count</th>\n",
       "      <td>1466419.00</td>\n",
       "      <td>1466419.00</td>\n",
       "    </tr>\n",
       "    <tr>\n",
       "      <th>mean</th>\n",
       "      <td>40.14</td>\n",
       "      <td>312.22</td>\n",
       "    </tr>\n",
       "    <tr>\n",
       "      <th>std</th>\n",
       "      <td>18.23</td>\n",
       "      <td>230.22</td>\n",
       "    </tr>\n",
       "    <tr>\n",
       "      <th>min</th>\n",
       "      <td>7.00</td>\n",
       "      <td>0.00</td>\n",
       "    </tr>\n",
       "    <tr>\n",
       "      <th>25%</th>\n",
       "      <td>30.00</td>\n",
       "      <td>120.00</td>\n",
       "    </tr>\n",
       "    <tr>\n",
       "      <th>50%</th>\n",
       "      <td>40.00</td>\n",
       "      <td>345.00</td>\n",
       "    </tr>\n",
       "    <tr>\n",
       "      <th>75%</th>\n",
       "      <td>40.00</td>\n",
       "      <td>436.00</td>\n",
       "    </tr>\n",
       "    <tr>\n",
       "      <th>max</th>\n",
       "      <td>360.00</td>\n",
       "      <td>1090.00</td>\n",
       "    </tr>\n",
       "  </tbody>\n",
       "</table>\n",
       "</div>"
      ],
      "text/plain": [
       "       monthly_fee      tenure\n",
       "count   1466419.00  1466419.00\n",
       "mean         40.14      312.22\n",
       "std          18.23      230.22\n",
       "min           7.00        0.00\n",
       "25%          30.00      120.00\n",
       "50%          40.00      345.00\n",
       "75%          40.00      436.00\n",
       "max         360.00     1090.00"
      ]
     },
     "execution_count": 72,
     "metadata": {},
     "output_type": "execute_result"
    }
   ],
   "source": [
    "round(subs[subs['churn'] == 1][['monthly_fee', 'tenure']].describe(),2) #klienci, którzy odeszli"
   ]
  },
  {
   "cell_type": "code",
   "execution_count": 73,
   "metadata": {},
   "outputs": [
    {
     "data": {
      "text/html": [
       "<div>\n",
       "<style scoped>\n",
       "    .dataframe tbody tr th:only-of-type {\n",
       "        vertical-align: middle;\n",
       "    }\n",
       "\n",
       "    .dataframe tbody tr th {\n",
       "        vertical-align: top;\n",
       "    }\n",
       "\n",
       "    .dataframe thead th {\n",
       "        text-align: right;\n",
       "    }\n",
       "</style>\n",
       "<table border=\"1\" class=\"dataframe\">\n",
       "  <thead>\n",
       "    <tr style=\"text-align: right;\">\n",
       "      <th></th>\n",
       "      <th>monthly_fee</th>\n",
       "      <th>tenure</th>\n",
       "    </tr>\n",
       "  </thead>\n",
       "  <tbody>\n",
       "    <tr>\n",
       "      <th>count</th>\n",
       "      <td>1595299.00</td>\n",
       "      <td>1595299.00</td>\n",
       "    </tr>\n",
       "    <tr>\n",
       "      <th>mean</th>\n",
       "      <td>37.94</td>\n",
       "      <td>497.50</td>\n",
       "    </tr>\n",
       "    <tr>\n",
       "      <th>std</th>\n",
       "      <td>14.98</td>\n",
       "      <td>279.37</td>\n",
       "    </tr>\n",
       "    <tr>\n",
       "      <th>min</th>\n",
       "      <td>10.00</td>\n",
       "      <td>0.00</td>\n",
       "    </tr>\n",
       "    <tr>\n",
       "      <th>25%</th>\n",
       "      <td>30.00</td>\n",
       "      <td>287.00</td>\n",
       "    </tr>\n",
       "    <tr>\n",
       "      <th>50%</th>\n",
       "      <td>35.00</td>\n",
       "      <td>484.00</td>\n",
       "    </tr>\n",
       "    <tr>\n",
       "      <th>75%</th>\n",
       "      <td>40.00</td>\n",
       "      <td>717.00</td>\n",
       "    </tr>\n",
       "    <tr>\n",
       "      <th>max</th>\n",
       "      <td>300.00</td>\n",
       "      <td>1092.00</td>\n",
       "    </tr>\n",
       "  </tbody>\n",
       "</table>\n",
       "</div>"
      ],
      "text/plain": [
       "       monthly_fee      tenure\n",
       "count   1595299.00  1595299.00\n",
       "mean         37.94      497.50\n",
       "std          14.98      279.37\n",
       "min          10.00        0.00\n",
       "25%          30.00      287.00\n",
       "50%          35.00      484.00\n",
       "75%          40.00      717.00\n",
       "max         300.00     1092.00"
      ]
     },
     "execution_count": 73,
     "metadata": {},
     "output_type": "execute_result"
    }
   ],
   "source": [
    "round(subs[subs['churn'] == 0][['monthly_fee', 'tenure']].describe(),2) #klienci, którzy pozostali"
   ]
  },
  {
   "cell_type": "markdown",
   "metadata": {},
   "source": [
    "#### Sprawdź my jak wyglądają histogramy monthly_fee oraz tenure"
   ]
  },
  {
   "cell_type": "code",
   "execution_count": 74,
   "metadata": {},
   "outputs": [
    {
     "data": {
      "image/png": "[encoded data removed]",
      "text/plain": [
       "<Figure size 432x288 with 1 Axes>"
      ]
     },
     "metadata": {},
     "output_type": "display_data"
    }
   ],
   "source": [
    "subs['tenure'].hist(bins = 30, alpha = 0.6, density = True)\n",
    "plt.title('Tenure')\n",
    "plt.show() "
   ]
  },
  {
   "cell_type": "markdown",
   "metadata": {},
   "source": [
    "Zbadanie skośności rozkładu 'tenure'"
   ]
  },
  {
   "cell_type": "code",
   "execution_count": 75,
   "metadata": {},
   "outputs": [
    {
     "data": {
      "text/plain": [
       "0.3806215254891536"
      ]
     },
     "execution_count": 75,
     "metadata": {},
     "output_type": "execute_result"
    }
   ],
   "source": [
    "subs['tenure'].skew()"
   ]
  },
  {
   "cell_type": "markdown",
   "metadata": {},
   "source": [
    "Wnioski: Rozkład prawostronnie skośny."
   ]
  },
  {
   "cell_type": "code",
   "execution_count": 76,
   "metadata": {},
   "outputs": [
    {
     "data": {
      "image/png": "[encoded data removed]",
      "text/plain": [
       "<Figure size 432x288 with 1 Axes>"
      ]
     },
     "metadata": {},
     "output_type": "display_data"
    }
   ],
   "source": [
    "subs['monthly_fee'].hist(bins = 30, alpha = 0.6, density = True)\n",
    "plt.title('Monthly_fee')\n",
    "plt.show()"
   ]
  },
  {
   "cell_type": "markdown",
   "metadata": {},
   "source": [
    "Zbadanie skośności rozkładu 'monthly_fee'"
   ]
  },
  {
   "cell_type": "code",
   "execution_count": 77,
   "metadata": {},
   "outputs": [
    {
     "data": {
      "text/plain": [
       "4.903755115329136"
      ]
     },
     "execution_count": 77,
     "metadata": {},
     "output_type": "execute_result"
    }
   ],
   "source": [
    "subs['monthly_fee'].skew() "
   ]
  },
  {
   "cell_type": "markdown",
   "metadata": {},
   "source": [
    "Wnioski: Rozkład prawostronnie skośny."
   ]
  },
  {
   "cell_type": "markdown",
   "metadata": {},
   "source": [
    "Histogram monthly_fee oraz tenure z podziałem na klientów, którzy pozostali oraz tych którzy odeszli."
   ]
  },
  {
   "cell_type": "code",
   "execution_count": 78,
   "metadata": {},
   "outputs": [
    {
     "data": {
      "image/png": "[encoded data removed]",
      "text/plain": [
       "<Figure size 720x720 with 2 Axes>"
      ]
     },
     "metadata": {},
     "output_type": "display_data"
    }
   ],
   "source": [
    "fig, ax = plt.subplots(2,1, figsize = (10,10))\n",
    "subs[subs.churn == 0][['tenure','monthly_fee']].hist(bins = 30, alpha = 0.7, ax = ax, density = True) #niebieski - klienci którzy pozostali\n",
    "subs[subs.churn == 1][['tenure','monthly_fee']].hist(bins = 30, alpha = 0.5, ax = ax, density = True) #czerwony - klienci, którzy odeszli\n",
    "fig.legend(['churn = 0','churn = 1'], loc = 'upper right')\n",
    "plt.show()"
   ]
  },
  {
   "cell_type": "markdown",
   "metadata": {},
   "source": [
    "W odniesieniu to histogramu monthly_fee (churn = 1) możemy zobaczyć szczyt w okolicy 30-40. Zdecydowana większość klientów decydowała się na taką wysokość miesięcznych opłat za usługę. "
   ]
  },
  {
   "cell_type": "markdown",
   "metadata": {},
   "source": [
    "Na histogramie tenure (churn = 1) widzimy, trzy szczyty.\n",
    "Pierwszy na samym początku subskrypcji, drugi w okolicy 120 dnia subskrypcji (cztery miesiące), a trzeci około roku. Przyjrzyjmy się tym dabym trochę bliżej. Sprawdźmy jak wygląda rozkład tenure z podziałem na stop_type."
   ]
  },
  {
   "cell_type": "code",
   "execution_count": 79,
   "metadata": {},
   "outputs": [
    {
     "data": {
      "image/png": "[encoded data removed]",
      "text/plain": [
       "<Figure size 1080x360 with 3 Axes>"
      ]
     },
     "metadata": {},
     "output_type": "display_data"
    }
   ],
   "source": [
    "gs = gridspec.GridSpec(1, 3)\n",
    "\n",
    "plt.figure(figsize = (15,5))\n",
    "ax = plt.subplot(gs[0, 0]) # row 0, col 0\n",
    "subs[subs['stop_type'] == 'm'][['tenure']].hist(bins = 30, ax = ax,  color = '#92C6FF')\n",
    "plt.title('tenure (stop_type - migration)')\n",
    "\n",
    "ax = plt.subplot(gs[0, 1]) # row 0, col 1\n",
    "subs[subs['stop_type'] == 'i'][['tenure']].hist(bins = 30, ax = ax, color = '#97F0AA')\n",
    "plt.title('tenure (stop_type - involuntary)')\n",
    "\n",
    "ax = plt.subplot(gs[0, 2]) # row 0, col 2\n",
    "subs[subs['stop_type'] == 'v'][['tenure']].hist(bins = 30, ax = ax, color = '#FF9F9A')\n",
    "plt.title('tenure (stop_type - voluntary)')\n",
    "plt.show()"
   ]
  },
  {
   "cell_type": "markdown",
   "metadata": {},
   "source": [
    "Sprawdźmy jeszcze jak wyglądają wartości tenure z podziałem na stop_type - wyświetlimy 25 wartości malejąco. "
   ]
  },
  {
   "cell_type": "code",
   "execution_count": 80,
   "metadata": {},
   "outputs": [
    {
     "data": {
      "text/plain": [
       "tenure  stop_type\n",
       "365     v            38632\n",
       "366     v            26104\n",
       "367     v            15098\n",
       "1       v            14979\n",
       "2       v            11130\n",
       "368     v            10350\n",
       "364     v            10255\n",
       "3       v             8922\n",
       "7       v             8135\n",
       "369     v             7954\n",
       "10      v             7637\n",
       "8       v             7471\n",
       "9       v             7464\n",
       "4       v             7404\n",
       "6       v             7249\n",
       "14      v             7246\n",
       "11      v             7240\n",
       "5       v             6985\n",
       "370     v             6950\n",
       "13      v             6873\n",
       "12      v             6707\n",
       "371     v             6416\n",
       "123     i             6321\n",
       "124     i             5807\n",
       "122     i             5539\n",
       "Name: customer_id, dtype: int64"
      ]
     },
     "execution_count": 80,
     "metadata": {},
     "output_type": "execute_result"
    }
   ],
   "source": [
    "subs.groupby(['tenure','stop_type'])['customer_id'].size().sort_values(ascending = False).head(25)"
   ]
  },
  {
   "cell_type": "markdown",
   "metadata": {},
   "source": [
    "Wnioski:\n",
    "\n",
    "W przypadku migracji widzimy dwa wyraźne szczyty. Jeden na początku subskrypcji, a drugi w okolicy roku. Pierwszy szczyt - zaprzestanie subskrypcji na samym jej początku mogło wiązać się z tym, iż karta klienta mogła zostać odrzucona, dane były niepoprawne lub klient szybko się rozmyślił. Drugi szczyt w okolicy roku może sugerować, że klientowi kończyła się subskrypcja i nie chciał jej przedłużyć (znalazł inną lepszą ofertę).\n",
    "\n",
    "W przypadku subskrypcji przerwanej przez opratora (involuntary) również widzimy wyraźne dwa szczyty. Jeden na samym początku, a drugi w 120 dniu subskrypcji. Pierwszy szczyt może występować z tych samych powodów co w migracji, drugi natomiast może sugerować, że operator ustalił granicę nie płacenia rachunków po przekroczeniu, której klienci sa usuwani z listy subskrybentów i w tym przypadku jest to około 4 miesięcy. \n",
    "\n",
    "W przypadku subskrypcji przerwanej przez klienta (voluntary) sytuacja wygląda podobnie jak w przypadku migracji mamy dwa szczyty, jeden na początku subskrypcji, a drugi w okolicy roku. Ilość rezygnacji w okolicy roku jest bardzo duża co może świadczyć o tym, że klient nie przedłużył rocznej subskrypcji."
   ]
  },
  {
   "cell_type": "markdown",
   "metadata": {},
   "source": [
    "#### Sprawdzenie obserwacji odstających"
   ]
  },
  {
   "cell_type": "markdown",
   "metadata": {},
   "source": [
    "Obserwacja odstająca jest obserwacją, która przyjmuje wartość:\n",
    "- Większą niż półtora odstępu międzykwartylowego (Q3 – Q1), od trzeciego kwartyla (Q3).\n",
    "- Mniejszą niż półtora odstępu międzykwartylowego (Q3 – Q1), od pierwszego kwartyla (Q1)."
   ]
  },
  {
   "cell_type": "code",
   "execution_count": 81,
   "metadata": {},
   "outputs": [
    {
     "name": "stdout",
     "output_type": "stream",
     "text": [
      "             lower_value  upper_boundary  num_of_outliers_L  num_of_outliers_U\n",
      "monthly_fee         15.0            55.0               1303             207337\n",
      "tenure            -454.0          1226.0                  0                  0\n"
     ]
    }
   ],
   "source": [
    "subs_num = subs.copy()\n",
    "subs_num = subs_num[['monthly_fee', 'tenure']]\n",
    "\n",
    "q1 = subs_num.quantile(0.25) \n",
    "q3 = subs_num.quantile(0.75)\n",
    "iqr = q3-q1\n",
    "\n",
    "low_boundary = (q1 - 1.5 * iqr)\n",
    "upp_boundary = (q3 + 1.5 * iqr)\n",
    "num_of_out_L = (subs_num[iqr.index] < low_boundary).sum()\n",
    "num_of_out_U = (subs_num[iqr.index] > upp_boundary).sum()\n",
    "\n",
    "outliers = pd.DataFrame({'lower_value':low_boundary, 'upper_boundary':upp_boundary,'num_of_outliers_L':num_of_out_L, 'num_of_outliers_U':num_of_out_U})\n",
    "print(outliers)"
   ]
  },
  {
   "cell_type": "code",
   "execution_count": 82,
   "metadata": {},
   "outputs": [
    {
     "data": {
      "image/png": "[encoded data removed]",
      "text/plain": [
       "<Figure size 360x360 with 1 Axes>"
      ]
     },
     "metadata": {},
     "output_type": "display_data"
    }
   ],
   "source": [
    "sns.catplot(\"churn\", \"tenure\", data=subs, kind=\"box\")\n",
    "plt.show()"
   ]
  },
  {
   "cell_type": "code",
   "execution_count": 83,
   "metadata": {},
   "outputs": [
    {
     "data": {
      "image/png": "[encoded data removed]",
      "text/plain": [
       "<Figure size 360x360 with 1 Axes>"
      ]
     },
     "metadata": {},
     "output_type": "display_data"
    }
   ],
   "source": [
    "sns.catplot(\"churn\", \"monthly_fee\", data=subs, kind=\"box\")\n",
    "plt.show()"
   ]
  },
  {
   "cell_type": "code",
   "execution_count": 84,
   "metadata": {},
   "outputs": [
    {
     "data": {
      "text/plain": [
       "monthly_fee\n",
       "7            1\n",
       "10        1299\n",
       "12           1\n",
       "13           2\n",
       "15          38\n",
       "16           1\n",
       "18           2\n",
       "19           3\n",
       "20      137233\n",
       "22           9\n",
       "25        2923\n",
       "27           7\n",
       "30     1065940\n",
       "35      309385\n",
       "37           1\n",
       "40     1048212\n",
       "45       57936\n",
       "50      231388\n",
       "60       62846\n",
       "70       36185\n",
       "75       33985\n",
       "80        8734\n",
       "90          79\n",
       "100      41071\n",
       "117          1\n",
       "120       3463\n",
       "130         26\n",
       "150      13582\n",
       "160          4\n",
       "200       6897\n",
       "300        458\n",
       "360          6\n",
       "dtype: int64"
      ]
     },
     "execution_count": 84,
     "metadata": {},
     "output_type": "execute_result"
    }
   ],
   "source": [
    "subs.groupby('monthly_fee').size()"
   ]
  },
  {
   "cell_type": "markdown",
   "metadata": {},
   "source": [
    "Wnioski: Widzimy, ze istnieją obserwacje odstające, jednakże w naszym przypadku nie będziemy ich usuwać, gdyż nie stwierdzono, że są to błędy w danych."
   ]
  },
  {
   "cell_type": "markdown",
   "metadata": {},
   "source": [
    "#### Jaki jest średni czas subskrypcji w zależności od rynku oraz kanału"
   ]
  },
  {
   "cell_type": "code",
   "execution_count": 85,
   "metadata": {},
   "outputs": [
    {
     "data": {
      "text/html": [
       "<div>\n",
       "<style scoped>\n",
       "    .dataframe tbody tr th:only-of-type {\n",
       "        vertical-align: middle;\n",
       "    }\n",
       "\n",
       "    .dataframe tbody tr th {\n",
       "        vertical-align: top;\n",
       "    }\n",
       "\n",
       "    .dataframe thead th {\n",
       "        text-align: right;\n",
       "    }\n",
       "</style>\n",
       "<table border=\"1\" class=\"dataframe\">\n",
       "  <thead>\n",
       "    <tr style=\"text-align: right;\">\n",
       "      <th></th>\n",
       "      <th></th>\n",
       "      <th>tenure</th>\n",
       "    </tr>\n",
       "    <tr>\n",
       "      <th>market</th>\n",
       "      <th>channel</th>\n",
       "      <th></th>\n",
       "    </tr>\n",
       "  </thead>\n",
       "  <tbody>\n",
       "    <tr>\n",
       "      <th rowspan=\"4\" valign=\"top\">gotham</th>\n",
       "      <th>chain</th>\n",
       "      <td>346.75</td>\n",
       "    </tr>\n",
       "    <tr>\n",
       "      <th>dealer</th>\n",
       "      <td>389.88</td>\n",
       "    </tr>\n",
       "    <tr>\n",
       "      <th>mail</th>\n",
       "      <td>342.94</td>\n",
       "    </tr>\n",
       "    <tr>\n",
       "      <th>store</th>\n",
       "      <td>431.10</td>\n",
       "    </tr>\n",
       "    <tr>\n",
       "      <th rowspan=\"4\" valign=\"top\">metropolis</th>\n",
       "      <th>chain</th>\n",
       "      <td>408.53</td>\n",
       "    </tr>\n",
       "    <tr>\n",
       "      <th>dealer</th>\n",
       "      <td>419.48</td>\n",
       "    </tr>\n",
       "    <tr>\n",
       "      <th>mail</th>\n",
       "      <td>357.42</td>\n",
       "    </tr>\n",
       "    <tr>\n",
       "      <th>store</th>\n",
       "      <td>461.54</td>\n",
       "    </tr>\n",
       "    <tr>\n",
       "      <th rowspan=\"4\" valign=\"top\">smallville</th>\n",
       "      <th>chain</th>\n",
       "      <td>452.71</td>\n",
       "    </tr>\n",
       "    <tr>\n",
       "      <th>dealer</th>\n",
       "      <td>476.37</td>\n",
       "    </tr>\n",
       "    <tr>\n",
       "      <th>mail</th>\n",
       "      <td>438.12</td>\n",
       "    </tr>\n",
       "    <tr>\n",
       "      <th>store</th>\n",
       "      <td>467.35</td>\n",
       "    </tr>\n",
       "  </tbody>\n",
       "</table>\n",
       "</div>"
      ],
      "text/plain": [
       "                    tenure\n",
       "market     channel        \n",
       "gotham     chain    346.75\n",
       "           dealer   389.88\n",
       "           mail     342.94\n",
       "           store    431.10\n",
       "metropolis chain    408.53\n",
       "           dealer   419.48\n",
       "           mail     357.42\n",
       "           store    461.54\n",
       "smallville chain    452.71\n",
       "           dealer   476.37\n",
       "           mail     438.12\n",
       "           store    467.35"
      ]
     },
     "execution_count": 85,
     "metadata": {},
     "output_type": "execute_result"
    }
   ],
   "source": [
    "mean_tenure_market_channel = pd.pivot_table(subs, index = ['market', 'channel'], values = ['tenure'], aggfunc = 'mean', margins = False)\n",
    "round(mean_tenure_market_channel, 2)"
   ]
  },
  {
   "cell_type": "markdown",
   "metadata": {},
   "source": [
    "Wnioski:\n",
    "- W Gotham najdłużej pozostawali klienci z kanału dystrybucji Chain, natomiast najkrócej ze Store\n",
    "- W Metropolis najdłużej pozostawali klienci z kanału dystrybucji Store, natomiast najkrócej z Mail\n",
    "- W Smallville najdłużej pozostawali klienci z kanału dystrybucji Chain, natomiast najkrócej ze Store"
   ]
  },
  {
   "cell_type": "markdown",
   "metadata": {},
   "source": [
    "#### Sprawdźmy czy istnieje związek między monthly_fee oraz tenure"
   ]
  },
  {
   "cell_type": "markdown",
   "metadata": {},
   "source": [
    "Sprawdźmy jaki ma rozkład zmienna monthly_fee oraz tenure"
   ]
  },
  {
   "cell_type": "markdown",
   "metadata": {},
   "source": [
    "Testowanie hipotezy<br>\n",
    "H0: Zmienna ma rozkład normalny<br>\n",
    "H1: Zmienna nie ma rozkładu normalnego<br>"
   ]
  },
  {
   "cell_type": "markdown",
   "metadata": {},
   "source": [
    "Stopień istotności przyjmujemy jako 0.05"
   ]
  },
  {
   "cell_type": "code",
   "execution_count": 86,
   "metadata": {},
   "outputs": [
    {
     "name": "stdout",
     "output_type": "stream",
     "text": [
      "stat_t=194902.060, pvalue=0.000\n",
      "Odrzucamy hipotezę H0, zatem prawdopodobnie zmienna tenure nie ma rozkładu normalnego\n"
     ]
    }
   ],
   "source": [
    "# test na normalność rozkładu tenure\n",
    "stat_t, p_t = scipy.stats.normaltest(subs['tenure'])\n",
    "print('stat_t=%.3f, pvalue=%.3f' % (stat_t, p_t))\n",
    "if p_t < 0.05:\n",
    "    print('Odrzucamy hipotezę H0, zatem prawdopodobnie zmienna tenure nie ma rozkładu normalnego')\n",
    "else:\n",
    "    print('Przyjmujemy hipotezę H0, zatem prawdopodobnie zmienna tenure ma rozkład normalny')"
   ]
  },
  {
   "cell_type": "code",
   "execution_count": 87,
   "metadata": {},
   "outputs": [
    {
     "name": "stdout",
     "output_type": "stream",
     "text": [
      "stat_m=3051362.524, pvalue=0.000\n",
      "Odrzucamy hipotezę H0, zatem prawdopodobnie zmienna monthly_fee nie ma rozkładu normalnego\n"
     ]
    }
   ],
   "source": [
    "# test na normalność rozkładu monthly_fee\n",
    "stat_m, p_m = scipy.stats.normaltest(subs['monthly_fee'])\n",
    "print('stat_m=%.3f, pvalue=%.3f' % (stat_m, p_m))\n",
    "if p_m< 0.05:\n",
    "    print('Odrzucamy hipotezę H0, zatem prawdopodobnie zmienna monthly_fee nie ma rozkładu normalnego')\n",
    "else:\n",
    "    print('Przyjmujemy hipotezę H0, zatem prawdopodobnie zmienna monthly_fee ma rozkład normalny')"
   ]
  },
  {
   "cell_type": "markdown",
   "metadata": {},
   "source": [
    "#### Sprawdzamy koralację między zmiennymi monthly_fee oraz tenure"
   ]
  },
  {
   "cell_type": "markdown",
   "metadata": {},
   "source": [
    "W związku z faktem, iż zmienne nie mają rozkładu normalnego, sprawdzamy korelacje za pomocą współczynnika korelacji rang Spearmana."
   ]
  },
  {
   "cell_type": "markdown",
   "metadata": {},
   "source": [
    "Testowanie hipotezy<br>\n",
    "H0: Zmienne są niezależne<br>\n",
    "H1: Zmienne są zależne<br>"
   ]
  },
  {
   "cell_type": "markdown",
   "metadata": {},
   "source": [
    "Wzór na korelację rho-Spearmana "
   ]
  },
  {
   "cell_type": "markdown",
   "metadata": {},
   "source": [
    "$rho(x,y) = {\\frac{cov(R_x, R_y)}{\\sigma_{R_x}*\\sigma_{R_y}}}$"
   ]
  },
  {
   "cell_type": "markdown",
   "metadata": {},
   "source": [
    "$cov(R_x,R_y) = E(R_x*R_y) - (E(R_x)*E(R_y))$"
   ]
  },
  {
   "cell_type": "markdown",
   "metadata": {},
   "source": [
    "gdzie:"
   ]
  },
  {
   "cell_type": "markdown",
   "metadata": {},
   "source": [
    "$rho(x,y)$ - współczynnik korelacji rho-Spearmana pomiędzy zmiennymi x i y<br>\n",
    "$R_x$ - porangowane wartości zmiennej X<br>\n",
    "$R_y$ - porangowane wartości zmiennej Y<br>\n",
    "$cov(R_x,R_y)$ - kowariancja pomiędzy zmiennymi $R_x$ i $R_y$<br>\n",
    "$\\sigma$ - odchylenie standardowe z populacji<br>\n",
    "$E$ - wartość oczekiwana"
   ]
  },
  {
   "cell_type": "markdown",
   "metadata": {},
   "source": [
    "Stopień istotności przyjmujemy jako 0.05"
   ]
  },
  {
   "cell_type": "code",
   "execution_count": 88,
   "metadata": {},
   "outputs": [
    {
     "name": "stdout",
     "output_type": "stream",
     "text": [
      "rho=-0.080, p_val=0.000\n",
      "Odrzucamy hipotezę H0, zatem prawdopodobnie zmienne są zależne\n"
     ]
    }
   ],
   "source": [
    "# sprawdzenie korelacji pomiędzy zmiennymi numerycznymi (współczynnik korelacji rang Spearmana)\n",
    "rho, p_val = scipy.stats.spearmanr(subs['tenure'], subs['monthly_fee'])\n",
    "print('rho=%.3f, p_val=%.3f' % (rho, p_val))\n",
    "if p_val < 0.05:\n",
    "    print('Odrzucamy hipotezę H0, zatem prawdopodobnie zmienne są zależne')\n",
    "else:\n",
    "    print('Przyjmujemy hipotezę H0, zatem prawdopodobnie zmienne są niezależne')"
   ]
  },
  {
   "cell_type": "code",
   "execution_count": 89,
   "metadata": {},
   "outputs": [],
   "source": [
    "subs_corr = subs[['monthly_fee','tenure']]"
   ]
  },
  {
   "cell_type": "code",
   "execution_count": 90,
   "metadata": {},
   "outputs": [
    {
     "data": {
      "text/html": [
       "<div>\n",
       "<style scoped>\n",
       "    .dataframe tbody tr th:only-of-type {\n",
       "        vertical-align: middle;\n",
       "    }\n",
       "\n",
       "    .dataframe tbody tr th {\n",
       "        vertical-align: top;\n",
       "    }\n",
       "\n",
       "    .dataframe thead th {\n",
       "        text-align: right;\n",
       "    }\n",
       "</style>\n",
       "<table border=\"1\" class=\"dataframe\">\n",
       "  <thead>\n",
       "    <tr style=\"text-align: right;\">\n",
       "      <th></th>\n",
       "      <th>monthly_fee</th>\n",
       "      <th>tenure</th>\n",
       "    </tr>\n",
       "  </thead>\n",
       "  <tbody>\n",
       "    <tr>\n",
       "      <th>monthly_fee</th>\n",
       "      <td>1.000000</td>\n",
       "      <td>-0.080159</td>\n",
       "    </tr>\n",
       "    <tr>\n",
       "      <th>tenure</th>\n",
       "      <td>-0.080159</td>\n",
       "      <td>1.000000</td>\n",
       "    </tr>\n",
       "  </tbody>\n",
       "</table>\n",
       "</div>"
      ],
      "text/plain": [
       "             monthly_fee    tenure\n",
       "monthly_fee     1.000000 -0.080159\n",
       "tenure         -0.080159  1.000000"
      ]
     },
     "execution_count": 90,
     "metadata": {},
     "output_type": "execute_result"
    }
   ],
   "source": [
    "subs_corr.corr(method='spearman')"
   ]
  },
  {
   "cell_type": "code",
   "execution_count": 91,
   "metadata": {},
   "outputs": [
    {
     "data": {
      "image/png": "[encoded data removed]",
      "text/plain": [
       "<Figure size 360x360 with 2 Axes>"
      ]
     },
     "metadata": {},
     "output_type": "display_data"
    }
   ],
   "source": [
    "plt.figure(figsize=(5,5))\n",
    "sns.heatmap(subs_corr.corr(method='spearman'), annot=True)\n",
    "plt.show()"
   ]
  },
  {
   "cell_type": "markdown",
   "metadata": {},
   "source": [
    "Widzimy, iż korelacja między tenure oraz monthly_fee jest ujemna i przyjmuje wartości bliskie 0. Ujemna korelacja oznacza, że wraz ze wzrostem/spadkiem jednej zmiennej, druga zmienna zachowuje się odwrotnie i odpowiednio spada bądź rośnie."
   ]
  },
  {
   "cell_type": "markdown",
   "metadata": {},
   "source": [
    "Współczynnik rho wynosi -0,08 i oznacza to słabą korelacje."
   ]
  },
  {
   "cell_type": "markdown",
   "metadata": {},
   "source": [
    "### 3. Podusmowanie"
   ]
  },
  {
   "cell_type": "markdown",
   "metadata": {},
   "source": [
    "Po przeanalizowaniu danych dotyczących subskrypcji sieci komórkowej możemy wysunąć kilka interesujących wniosków.<br> \n",
    "W 2006 roku nastąpił znaczny spadek w ilości nowych klientów w porównaniu do poprzedniego roku. Trzeba by było bliżej przyjrzeć się tematowi, sprawdzić co mogło być przyczyną takiego spadku zainteresowania wśród nowych klientów, zastanowić się co można by było zrobić, aby zachęcić klientów do przyłączenia się do sieci. <br> \n",
    "Widzimy, iż na rynek Gotham przynosi najwięcej klientów, jednakże liczba klientów, którzy zrezygnowali z subskrypcji na tym rynku przewyższa liczbę klientów którzy zostali. Należałoby sprawdzić co można zrobić, aby zapobiec odpływowi klientów na tym rynku. Może rozwiązaniem mogły by być dodatkowe benefity.<br> \n",
    "Najwięcej klientów decyduje się na bottom plan i to on przynosi największe zyski. Tutaj również liczba klientów, którzy pozostali jest większa od liczby klientów którzy odeszli. Najmniej klientów decyduje się na top plan i w tym przypadku liczba klientów odchodzących przewyższa liczbę klientów, którzy pozostają. Warto byłoby spróbować uatrakcyjnić top plan i bardziej zadbać o klientów, którzy decydują się zapłacić dużo więcej za usługę miesięcznie. <br> \n",
    "W przypadku kanałów dystrybucji największą uwagę przykuwa fakt, iż najwięcej klientów zostaje z kanału store. Należałoby sprawdzić co może być tego przyczyną i dlaczego inne kanały radzą sobie gorzej.<br> \n",
    "Najczęstszą przyczyną zakończenia subskrypcji była rezygnacja klienta. Szczególnie istotne jest to, kiedy największa ilość klientów odchodziła. Analizując histogram tenure widzimy, iż było to w okolicy roku od rozpoczęcia subskrypcji. Aby zapobiec odpływowi klientów w tym czasie należałoby rozważyć zaproponowanie mu dodatkowych benefitów przed upływem tego czasu, a może symboliczne zmniejszenie miesięcznej opłaty za usługę. <br> \n",
    "W powyższej analizie zwróciliśmy również uwagę na fakt, iż między monthly_fee oraz tenure występuje słaba korelacja.<br> \n",
    "\n",
    "\n",
    "\n",
    "\n"
   ]
  }
 ],
 "metadata": {
  "kernelspec": {
   "display_name": "Python 3",
   "language": "python",
   "name": "python3"
  },
  "language_info": {
   "codemirror_mode": {
    "name": "ipython",
    "version": 3
   },
   "file_extension": ".py",
   "mimetype": "text/x-python",
   "name": "python",
   "nbconvert_exporter": "python",
   "pygments_lexer": "ipython3",
   "version": "3.8.3"
  }
 },
 "nbformat": 4,
 "nbformat_minor": 4
}
